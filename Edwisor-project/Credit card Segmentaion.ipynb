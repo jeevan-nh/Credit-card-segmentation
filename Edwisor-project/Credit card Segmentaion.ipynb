{
 "cells": [
  {
   "cell_type": "markdown",
   "metadata": {},
   "source": [
    "# credit card segmentation"
   ]
  },
  {
   "cell_type": "markdown",
   "metadata": {},
   "source": [
    "## Problem Statement\n",
    "\n",
    "This case requires trainees to develop a customer segmentation to define marketing strategy. The sample dataset summarizes the usage behaviour of about 9000 active credit card holders during the last 6 months. The file is at a customer level with 18 behavioural variables."
   ]
  },
  {
   "cell_type": "markdown",
   "metadata": {},
   "source": [
    "## Data PreProcessing\n",
    "\n",
    "Here we are now doing a data preprocessing and we will be cresting the New KPI’s and also we will be doing data scaling"
   ]
  },
  {
   "cell_type": "code",
   "execution_count": 1,
   "metadata": {},
   "outputs": [],
   "source": [
    "import pandas as pd\n",
    "import numpy as np\n",
    "import os\n",
    "import matplotlib.pyplot as plt\n",
    "import seaborn as sns\n",
    "%matplotlib inline"
   ]
  },
  {
   "cell_type": "code",
   "execution_count": 2,
   "metadata": {},
   "outputs": [
    {
     "data": {
      "text/plain": [
       "'C:\\\\Users\\\\jhemmann\\\\Desktop\\\\Edwisor-project'"
      ]
     },
     "execution_count": 2,
     "metadata": {},
     "output_type": "execute_result"
    }
   ],
   "source": [
    "os.chdir('C:/Users/jhemmann/Desktop/Edwisor-project/')\n",
    "os.getcwd()"
   ]
  },
  {
   "cell_type": "code",
   "execution_count": 3,
   "metadata": {},
   "outputs": [],
   "source": [
    "credit = pd.read_csv('credit-card-data.csv')"
   ]
  },
  {
   "cell_type": "code",
   "execution_count": 4,
   "metadata": {},
   "outputs": [
    {
     "data": {
      "text/html": [
       "<div>\n",
       "<style scoped>\n",
       "    .dataframe tbody tr th:only-of-type {\n",
       "        vertical-align: middle;\n",
       "    }\n",
       "\n",
       "    .dataframe tbody tr th {\n",
       "        vertical-align: top;\n",
       "    }\n",
       "\n",
       "    .dataframe thead th {\n",
       "        text-align: right;\n",
       "    }\n",
       "</style>\n",
       "<table border=\"1\" class=\"dataframe\">\n",
       "  <thead>\n",
       "    <tr style=\"text-align: right;\">\n",
       "      <th></th>\n",
       "      <th>CUST_ID</th>\n",
       "      <th>BALANCE</th>\n",
       "      <th>BALANCE_FREQUENCY</th>\n",
       "      <th>PURCHASES</th>\n",
       "      <th>ONEOFF_PURCHASES</th>\n",
       "      <th>INSTALLMENTS_PURCHASES</th>\n",
       "      <th>CASH_ADVANCE</th>\n",
       "      <th>PURCHASES_FREQUENCY</th>\n",
       "      <th>ONEOFF_PURCHASES_FREQUENCY</th>\n",
       "      <th>PURCHASES_INSTALLMENTS_FREQUENCY</th>\n",
       "      <th>CASH_ADVANCE_FREQUENCY</th>\n",
       "      <th>CASH_ADVANCE_TRX</th>\n",
       "      <th>PURCHASES_TRX</th>\n",
       "      <th>CREDIT_LIMIT</th>\n",
       "      <th>PAYMENTS</th>\n",
       "      <th>MINIMUM_PAYMENTS</th>\n",
       "      <th>PRC_FULL_PAYMENT</th>\n",
       "      <th>TENURE</th>\n",
       "    </tr>\n",
       "  </thead>\n",
       "  <tbody>\n",
       "    <tr>\n",
       "      <td>0</td>\n",
       "      <td>C10001</td>\n",
       "      <td>40.900749</td>\n",
       "      <td>0.818182</td>\n",
       "      <td>95.40</td>\n",
       "      <td>0.00</td>\n",
       "      <td>95.4</td>\n",
       "      <td>0.000000</td>\n",
       "      <td>0.166667</td>\n",
       "      <td>0.000000</td>\n",
       "      <td>0.083333</td>\n",
       "      <td>0.000000</td>\n",
       "      <td>0</td>\n",
       "      <td>2</td>\n",
       "      <td>1000.0</td>\n",
       "      <td>201.802084</td>\n",
       "      <td>139.509787</td>\n",
       "      <td>0.000000</td>\n",
       "      <td>12</td>\n",
       "    </tr>\n",
       "    <tr>\n",
       "      <td>1</td>\n",
       "      <td>C10002</td>\n",
       "      <td>3202.467416</td>\n",
       "      <td>0.909091</td>\n",
       "      <td>0.00</td>\n",
       "      <td>0.00</td>\n",
       "      <td>0.0</td>\n",
       "      <td>6442.945483</td>\n",
       "      <td>0.000000</td>\n",
       "      <td>0.000000</td>\n",
       "      <td>0.000000</td>\n",
       "      <td>0.250000</td>\n",
       "      <td>4</td>\n",
       "      <td>0</td>\n",
       "      <td>7000.0</td>\n",
       "      <td>4103.032597</td>\n",
       "      <td>1072.340217</td>\n",
       "      <td>0.222222</td>\n",
       "      <td>12</td>\n",
       "    </tr>\n",
       "    <tr>\n",
       "      <td>2</td>\n",
       "      <td>C10003</td>\n",
       "      <td>2495.148862</td>\n",
       "      <td>1.000000</td>\n",
       "      <td>773.17</td>\n",
       "      <td>773.17</td>\n",
       "      <td>0.0</td>\n",
       "      <td>0.000000</td>\n",
       "      <td>1.000000</td>\n",
       "      <td>1.000000</td>\n",
       "      <td>0.000000</td>\n",
       "      <td>0.000000</td>\n",
       "      <td>0</td>\n",
       "      <td>12</td>\n",
       "      <td>7500.0</td>\n",
       "      <td>622.066742</td>\n",
       "      <td>627.284787</td>\n",
       "      <td>0.000000</td>\n",
       "      <td>12</td>\n",
       "    </tr>\n",
       "    <tr>\n",
       "      <td>3</td>\n",
       "      <td>C10004</td>\n",
       "      <td>1666.670542</td>\n",
       "      <td>0.636364</td>\n",
       "      <td>1499.00</td>\n",
       "      <td>1499.00</td>\n",
       "      <td>0.0</td>\n",
       "      <td>205.788017</td>\n",
       "      <td>0.083333</td>\n",
       "      <td>0.083333</td>\n",
       "      <td>0.000000</td>\n",
       "      <td>0.083333</td>\n",
       "      <td>1</td>\n",
       "      <td>1</td>\n",
       "      <td>7500.0</td>\n",
       "      <td>0.000000</td>\n",
       "      <td>NaN</td>\n",
       "      <td>0.000000</td>\n",
       "      <td>12</td>\n",
       "    </tr>\n",
       "    <tr>\n",
       "      <td>4</td>\n",
       "      <td>C10005</td>\n",
       "      <td>817.714335</td>\n",
       "      <td>1.000000</td>\n",
       "      <td>16.00</td>\n",
       "      <td>16.00</td>\n",
       "      <td>0.0</td>\n",
       "      <td>0.000000</td>\n",
       "      <td>0.083333</td>\n",
       "      <td>0.083333</td>\n",
       "      <td>0.000000</td>\n",
       "      <td>0.000000</td>\n",
       "      <td>0</td>\n",
       "      <td>1</td>\n",
       "      <td>1200.0</td>\n",
       "      <td>678.334763</td>\n",
       "      <td>244.791237</td>\n",
       "      <td>0.000000</td>\n",
       "      <td>12</td>\n",
       "    </tr>\n",
       "  </tbody>\n",
       "</table>\n",
       "</div>"
      ],
      "text/plain": [
       "  CUST_ID      BALANCE  BALANCE_FREQUENCY  PURCHASES  ONEOFF_PURCHASES  \\\n",
       "0  C10001    40.900749           0.818182      95.40              0.00   \n",
       "1  C10002  3202.467416           0.909091       0.00              0.00   \n",
       "2  C10003  2495.148862           1.000000     773.17            773.17   \n",
       "3  C10004  1666.670542           0.636364    1499.00           1499.00   \n",
       "4  C10005   817.714335           1.000000      16.00             16.00   \n",
       "\n",
       "   INSTALLMENTS_PURCHASES  CASH_ADVANCE  PURCHASES_FREQUENCY  \\\n",
       "0                    95.4      0.000000             0.166667   \n",
       "1                     0.0   6442.945483             0.000000   \n",
       "2                     0.0      0.000000             1.000000   \n",
       "3                     0.0    205.788017             0.083333   \n",
       "4                     0.0      0.000000             0.083333   \n",
       "\n",
       "   ONEOFF_PURCHASES_FREQUENCY  PURCHASES_INSTALLMENTS_FREQUENCY  \\\n",
       "0                    0.000000                          0.083333   \n",
       "1                    0.000000                          0.000000   \n",
       "2                    1.000000                          0.000000   \n",
       "3                    0.083333                          0.000000   \n",
       "4                    0.083333                          0.000000   \n",
       "\n",
       "   CASH_ADVANCE_FREQUENCY  CASH_ADVANCE_TRX  PURCHASES_TRX  CREDIT_LIMIT  \\\n",
       "0                0.000000                 0              2        1000.0   \n",
       "1                0.250000                 4              0        7000.0   \n",
       "2                0.000000                 0             12        7500.0   \n",
       "3                0.083333                 1              1        7500.0   \n",
       "4                0.000000                 0              1        1200.0   \n",
       "\n",
       "      PAYMENTS  MINIMUM_PAYMENTS  PRC_FULL_PAYMENT  TENURE  \n",
       "0   201.802084        139.509787          0.000000      12  \n",
       "1  4103.032597       1072.340217          0.222222      12  \n",
       "2   622.066742        627.284787          0.000000      12  \n",
       "3     0.000000               NaN          0.000000      12  \n",
       "4   678.334763        244.791237          0.000000      12  "
      ]
     },
     "execution_count": 4,
     "metadata": {},
     "output_type": "execute_result"
    }
   ],
   "source": [
    "credit.head()"
   ]
  },
  {
   "cell_type": "code",
   "execution_count": 5,
   "metadata": {
    "scrolled": false
   },
   "outputs": [
    {
     "name": "stdout",
     "output_type": "stream",
     "text": [
      "<class 'pandas.core.frame.DataFrame'>\n",
      "RangeIndex: 8950 entries, 0 to 8949\n",
      "Data columns (total 18 columns):\n",
      "CUST_ID                             8950 non-null object\n",
      "BALANCE                             8950 non-null float64\n",
      "BALANCE_FREQUENCY                   8950 non-null float64\n",
      "PURCHASES                           8950 non-null float64\n",
      "ONEOFF_PURCHASES                    8950 non-null float64\n",
      "INSTALLMENTS_PURCHASES              8950 non-null float64\n",
      "CASH_ADVANCE                        8950 non-null float64\n",
      "PURCHASES_FREQUENCY                 8950 non-null float64\n",
      "ONEOFF_PURCHASES_FREQUENCY          8950 non-null float64\n",
      "PURCHASES_INSTALLMENTS_FREQUENCY    8950 non-null float64\n",
      "CASH_ADVANCE_FREQUENCY              8950 non-null float64\n",
      "CASH_ADVANCE_TRX                    8950 non-null int64\n",
      "PURCHASES_TRX                       8950 non-null int64\n",
      "CREDIT_LIMIT                        8949 non-null float64\n",
      "PAYMENTS                            8950 non-null float64\n",
      "MINIMUM_PAYMENTS                    8637 non-null float64\n",
      "PRC_FULL_PAYMENT                    8950 non-null float64\n",
      "TENURE                              8950 non-null int64\n",
      "dtypes: float64(14), int64(3), object(1)\n",
      "memory usage: 1.2+ MB\n"
     ]
    }
   ],
   "source": [
    "credit.info()"
   ]
  },
  {
   "cell_type": "code",
   "execution_count": 6,
   "metadata": {},
   "outputs": [
    {
     "data": {
      "text/plain": [
       "(8950, 18)"
      ]
     },
     "execution_count": 6,
     "metadata": {},
     "output_type": "execute_result"
    }
   ],
   "source": [
    "credit.shape"
   ]
  },
  {
   "cell_type": "code",
   "execution_count": 7,
   "metadata": {
    "scrolled": true
   },
   "outputs": [
    {
     "data": {
      "text/html": [
       "<div>\n",
       "<style scoped>\n",
       "    .dataframe tbody tr th:only-of-type {\n",
       "        vertical-align: middle;\n",
       "    }\n",
       "\n",
       "    .dataframe tbody tr th {\n",
       "        vertical-align: top;\n",
       "    }\n",
       "\n",
       "    .dataframe thead th {\n",
       "        text-align: right;\n",
       "    }\n",
       "</style>\n",
       "<table border=\"1\" class=\"dataframe\">\n",
       "  <thead>\n",
       "    <tr style=\"text-align: right;\">\n",
       "      <th></th>\n",
       "      <th>BALANCE</th>\n",
       "      <th>BALANCE_FREQUENCY</th>\n",
       "      <th>PURCHASES</th>\n",
       "      <th>ONEOFF_PURCHASES</th>\n",
       "      <th>INSTALLMENTS_PURCHASES</th>\n",
       "      <th>CASH_ADVANCE</th>\n",
       "      <th>PURCHASES_FREQUENCY</th>\n",
       "      <th>ONEOFF_PURCHASES_FREQUENCY</th>\n",
       "      <th>PURCHASES_INSTALLMENTS_FREQUENCY</th>\n",
       "      <th>CASH_ADVANCE_FREQUENCY</th>\n",
       "      <th>CASH_ADVANCE_TRX</th>\n",
       "      <th>PURCHASES_TRX</th>\n",
       "      <th>CREDIT_LIMIT</th>\n",
       "      <th>PAYMENTS</th>\n",
       "      <th>MINIMUM_PAYMENTS</th>\n",
       "      <th>PRC_FULL_PAYMENT</th>\n",
       "      <th>TENURE</th>\n",
       "    </tr>\n",
       "  </thead>\n",
       "  <tbody>\n",
       "    <tr>\n",
       "      <td>count</td>\n",
       "      <td>8950.000000</td>\n",
       "      <td>8950.000000</td>\n",
       "      <td>8950.000000</td>\n",
       "      <td>8950.000000</td>\n",
       "      <td>8950.000000</td>\n",
       "      <td>8950.000000</td>\n",
       "      <td>8950.000000</td>\n",
       "      <td>8950.000000</td>\n",
       "      <td>8950.000000</td>\n",
       "      <td>8950.000000</td>\n",
       "      <td>8950.000000</td>\n",
       "      <td>8950.000000</td>\n",
       "      <td>8949.000000</td>\n",
       "      <td>8950.000000</td>\n",
       "      <td>8637.000000</td>\n",
       "      <td>8950.000000</td>\n",
       "      <td>8950.000000</td>\n",
       "    </tr>\n",
       "    <tr>\n",
       "      <td>mean</td>\n",
       "      <td>1564.474828</td>\n",
       "      <td>0.877271</td>\n",
       "      <td>1003.204834</td>\n",
       "      <td>592.437371</td>\n",
       "      <td>411.067645</td>\n",
       "      <td>978.871112</td>\n",
       "      <td>0.490351</td>\n",
       "      <td>0.202458</td>\n",
       "      <td>0.364437</td>\n",
       "      <td>0.135144</td>\n",
       "      <td>3.248827</td>\n",
       "      <td>14.709832</td>\n",
       "      <td>4494.449450</td>\n",
       "      <td>1733.143852</td>\n",
       "      <td>864.206542</td>\n",
       "      <td>0.153715</td>\n",
       "      <td>11.517318</td>\n",
       "    </tr>\n",
       "    <tr>\n",
       "      <td>std</td>\n",
       "      <td>2081.531879</td>\n",
       "      <td>0.236904</td>\n",
       "      <td>2136.634782</td>\n",
       "      <td>1659.887917</td>\n",
       "      <td>904.338115</td>\n",
       "      <td>2097.163877</td>\n",
       "      <td>0.401371</td>\n",
       "      <td>0.298336</td>\n",
       "      <td>0.397448</td>\n",
       "      <td>0.200121</td>\n",
       "      <td>6.824647</td>\n",
       "      <td>24.857649</td>\n",
       "      <td>3638.815725</td>\n",
       "      <td>2895.063757</td>\n",
       "      <td>2372.446607</td>\n",
       "      <td>0.292499</td>\n",
       "      <td>1.338331</td>\n",
       "    </tr>\n",
       "    <tr>\n",
       "      <td>min</td>\n",
       "      <td>0.000000</td>\n",
       "      <td>0.000000</td>\n",
       "      <td>0.000000</td>\n",
       "      <td>0.000000</td>\n",
       "      <td>0.000000</td>\n",
       "      <td>0.000000</td>\n",
       "      <td>0.000000</td>\n",
       "      <td>0.000000</td>\n",
       "      <td>0.000000</td>\n",
       "      <td>0.000000</td>\n",
       "      <td>0.000000</td>\n",
       "      <td>0.000000</td>\n",
       "      <td>50.000000</td>\n",
       "      <td>0.000000</td>\n",
       "      <td>0.019163</td>\n",
       "      <td>0.000000</td>\n",
       "      <td>6.000000</td>\n",
       "    </tr>\n",
       "    <tr>\n",
       "      <td>25%</td>\n",
       "      <td>128.281915</td>\n",
       "      <td>0.888889</td>\n",
       "      <td>39.635000</td>\n",
       "      <td>0.000000</td>\n",
       "      <td>0.000000</td>\n",
       "      <td>0.000000</td>\n",
       "      <td>0.083333</td>\n",
       "      <td>0.000000</td>\n",
       "      <td>0.000000</td>\n",
       "      <td>0.000000</td>\n",
       "      <td>0.000000</td>\n",
       "      <td>1.000000</td>\n",
       "      <td>1600.000000</td>\n",
       "      <td>383.276166</td>\n",
       "      <td>169.123707</td>\n",
       "      <td>0.000000</td>\n",
       "      <td>12.000000</td>\n",
       "    </tr>\n",
       "    <tr>\n",
       "      <td>50%</td>\n",
       "      <td>873.385231</td>\n",
       "      <td>1.000000</td>\n",
       "      <td>361.280000</td>\n",
       "      <td>38.000000</td>\n",
       "      <td>89.000000</td>\n",
       "      <td>0.000000</td>\n",
       "      <td>0.500000</td>\n",
       "      <td>0.083333</td>\n",
       "      <td>0.166667</td>\n",
       "      <td>0.000000</td>\n",
       "      <td>0.000000</td>\n",
       "      <td>7.000000</td>\n",
       "      <td>3000.000000</td>\n",
       "      <td>856.901546</td>\n",
       "      <td>312.343947</td>\n",
       "      <td>0.000000</td>\n",
       "      <td>12.000000</td>\n",
       "    </tr>\n",
       "    <tr>\n",
       "      <td>75%</td>\n",
       "      <td>2054.140036</td>\n",
       "      <td>1.000000</td>\n",
       "      <td>1110.130000</td>\n",
       "      <td>577.405000</td>\n",
       "      <td>468.637500</td>\n",
       "      <td>1113.821139</td>\n",
       "      <td>0.916667</td>\n",
       "      <td>0.300000</td>\n",
       "      <td>0.750000</td>\n",
       "      <td>0.222222</td>\n",
       "      <td>4.000000</td>\n",
       "      <td>17.000000</td>\n",
       "      <td>6500.000000</td>\n",
       "      <td>1901.134317</td>\n",
       "      <td>825.485459</td>\n",
       "      <td>0.142857</td>\n",
       "      <td>12.000000</td>\n",
       "    </tr>\n",
       "    <tr>\n",
       "      <td>max</td>\n",
       "      <td>19043.138560</td>\n",
       "      <td>1.000000</td>\n",
       "      <td>49039.570000</td>\n",
       "      <td>40761.250000</td>\n",
       "      <td>22500.000000</td>\n",
       "      <td>47137.211760</td>\n",
       "      <td>1.000000</td>\n",
       "      <td>1.000000</td>\n",
       "      <td>1.000000</td>\n",
       "      <td>1.500000</td>\n",
       "      <td>123.000000</td>\n",
       "      <td>358.000000</td>\n",
       "      <td>30000.000000</td>\n",
       "      <td>50721.483360</td>\n",
       "      <td>76406.207520</td>\n",
       "      <td>1.000000</td>\n",
       "      <td>12.000000</td>\n",
       "    </tr>\n",
       "  </tbody>\n",
       "</table>\n",
       "</div>"
      ],
      "text/plain": [
       "            BALANCE  BALANCE_FREQUENCY     PURCHASES  ONEOFF_PURCHASES  \\\n",
       "count   8950.000000        8950.000000   8950.000000       8950.000000   \n",
       "mean    1564.474828           0.877271   1003.204834        592.437371   \n",
       "std     2081.531879           0.236904   2136.634782       1659.887917   \n",
       "min        0.000000           0.000000      0.000000          0.000000   \n",
       "25%      128.281915           0.888889     39.635000          0.000000   \n",
       "50%      873.385231           1.000000    361.280000         38.000000   \n",
       "75%     2054.140036           1.000000   1110.130000        577.405000   \n",
       "max    19043.138560           1.000000  49039.570000      40761.250000   \n",
       "\n",
       "       INSTALLMENTS_PURCHASES  CASH_ADVANCE  PURCHASES_FREQUENCY  \\\n",
       "count             8950.000000   8950.000000          8950.000000   \n",
       "mean               411.067645    978.871112             0.490351   \n",
       "std                904.338115   2097.163877             0.401371   \n",
       "min                  0.000000      0.000000             0.000000   \n",
       "25%                  0.000000      0.000000             0.083333   \n",
       "50%                 89.000000      0.000000             0.500000   \n",
       "75%                468.637500   1113.821139             0.916667   \n",
       "max              22500.000000  47137.211760             1.000000   \n",
       "\n",
       "       ONEOFF_PURCHASES_FREQUENCY  PURCHASES_INSTALLMENTS_FREQUENCY  \\\n",
       "count                 8950.000000                       8950.000000   \n",
       "mean                     0.202458                          0.364437   \n",
       "std                      0.298336                          0.397448   \n",
       "min                      0.000000                          0.000000   \n",
       "25%                      0.000000                          0.000000   \n",
       "50%                      0.083333                          0.166667   \n",
       "75%                      0.300000                          0.750000   \n",
       "max                      1.000000                          1.000000   \n",
       "\n",
       "       CASH_ADVANCE_FREQUENCY  CASH_ADVANCE_TRX  PURCHASES_TRX  CREDIT_LIMIT  \\\n",
       "count             8950.000000       8950.000000    8950.000000   8949.000000   \n",
       "mean                 0.135144          3.248827      14.709832   4494.449450   \n",
       "std                  0.200121          6.824647      24.857649   3638.815725   \n",
       "min                  0.000000          0.000000       0.000000     50.000000   \n",
       "25%                  0.000000          0.000000       1.000000   1600.000000   \n",
       "50%                  0.000000          0.000000       7.000000   3000.000000   \n",
       "75%                  0.222222          4.000000      17.000000   6500.000000   \n",
       "max                  1.500000        123.000000     358.000000  30000.000000   \n",
       "\n",
       "           PAYMENTS  MINIMUM_PAYMENTS  PRC_FULL_PAYMENT       TENURE  \n",
       "count   8950.000000       8637.000000       8950.000000  8950.000000  \n",
       "mean    1733.143852        864.206542          0.153715    11.517318  \n",
       "std     2895.063757       2372.446607          0.292499     1.338331  \n",
       "min        0.000000          0.019163          0.000000     6.000000  \n",
       "25%      383.276166        169.123707          0.000000    12.000000  \n",
       "50%      856.901546        312.343947          0.000000    12.000000  \n",
       "75%     1901.134317        825.485459          0.142857    12.000000  \n",
       "max    50721.483360      76406.207520          1.000000    12.000000  "
      ]
     },
     "execution_count": 7,
     "metadata": {},
     "output_type": "execute_result"
    }
   ],
   "source": [
    "credit.describe()"
   ]
  },
  {
   "cell_type": "code",
   "execution_count": 8,
   "metadata": {},
   "outputs": [
    {
     "data": {
      "text/plain": [
       "CUST_ID                               0\n",
       "BALANCE                               0\n",
       "BALANCE_FREQUENCY                     0\n",
       "PURCHASES                             0\n",
       "ONEOFF_PURCHASES                      0\n",
       "INSTALLMENTS_PURCHASES                0\n",
       "CASH_ADVANCE                          0\n",
       "PURCHASES_FREQUENCY                   0\n",
       "ONEOFF_PURCHASES_FREQUENCY            0\n",
       "PURCHASES_INSTALLMENTS_FREQUENCY      0\n",
       "CASH_ADVANCE_FREQUENCY                0\n",
       "CASH_ADVANCE_TRX                      0\n",
       "PURCHASES_TRX                         0\n",
       "CREDIT_LIMIT                          1\n",
       "PAYMENTS                              0\n",
       "MINIMUM_PAYMENTS                    313\n",
       "PRC_FULL_PAYMENT                      0\n",
       "TENURE                                0\n",
       "dtype: int64"
      ]
     },
     "execution_count": 8,
     "metadata": {},
     "output_type": "execute_result"
    }
   ],
   "source": [
    "credit.isna().sum()"
   ]
  },
  {
   "cell_type": "code",
   "execution_count": 9,
   "metadata": {},
   "outputs": [
    {
     "name": "stdout",
     "output_type": "stream",
     "text": [
      "CUST_ID                             0\n",
      "BALANCE                             0\n",
      "BALANCE_FREQUENCY                   0\n",
      "PURCHASES                           0\n",
      "ONEOFF_PURCHASES                    0\n",
      "INSTALLMENTS_PURCHASES              0\n",
      "CASH_ADVANCE                        0\n",
      "PURCHASES_FREQUENCY                 0\n",
      "ONEOFF_PURCHASES_FREQUENCY          0\n",
      "PURCHASES_INSTALLMENTS_FREQUENCY    0\n",
      "CASH_ADVANCE_FREQUENCY              0\n",
      "CASH_ADVANCE_TRX                    0\n",
      "PURCHASES_TRX                       0\n",
      "CREDIT_LIMIT                        0\n",
      "PAYMENTS                            0\n",
      "MINIMUM_PAYMENTS                    0\n",
      "PRC_FULL_PAYMENT                    0\n",
      "TENURE                              0\n",
      "dtype: int64\n"
     ]
    }
   ],
   "source": [
    "credit['CREDIT_LIMIT'].fillna(credit['CREDIT_LIMIT'].median(),inplace=True)\n",
    "credit['MINIMUM_PAYMENTS'].fillna(credit['MINIMUM_PAYMENTS'].median(),inplace=True)\n",
    "print(credit.isna().sum())"
   ]
  },
  {
   "cell_type": "code",
   "execution_count": 10,
   "metadata": {},
   "outputs": [],
   "source": [
    "credit_copy = credit.copy()"
   ]
  },
  {
   "cell_type": "markdown",
   "metadata": {},
   "source": [
    "## Deriving New KPI's\n",
    "\n",
    "Here we are deriving New KPI as asked in a problem statements.\n",
    "* Monthly average perchase is purchases by tenure\n",
    "* monthly cash advance is cash advance by tenure\n",
    "* creating categories by using One_off purchase and installment purchases\n",
    "* limit usage is basically ratio of balance to limit usage\n",
    "* Pay_minPay is the ratio of payments to minimum payments \n",
    "\n",
    "These are the new KPI's formed"
   ]
  },
  {
   "cell_type": "code",
   "execution_count": 11,
   "metadata": {},
   "outputs": [],
   "source": [
    "credit['Monthly_avg_purchase']=credit['PURCHASES']/(credit['TENURE'])\n",
    "credit['Monthly_cash_advance']=credit['CASH_ADVANCE']/(credit['TENURE'])"
   ]
  },
  {
   "cell_type": "code",
   "execution_count": 12,
   "metadata": {},
   "outputs": [
    {
     "data": {
      "text/plain": [
       "(8950, 20)"
      ]
     },
     "execution_count": 12,
     "metadata": {},
     "output_type": "execute_result"
    }
   ],
   "source": [
    "credit.shape "
   ]
  },
  {
   "cell_type": "code",
   "execution_count": 13,
   "metadata": {},
   "outputs": [
    {
     "data": {
      "text/plain": [
       "0      7.950000\n",
       "1      0.000000\n",
       "2     64.430833\n",
       "3    124.916667\n",
       "4      1.333333\n",
       "Name: Monthly_avg_purchase, dtype: float64"
      ]
     },
     "execution_count": 13,
     "metadata": {},
     "output_type": "execute_result"
    }
   ],
   "source": [
    "credit['Monthly_avg_purchase'].head()"
   ]
  },
  {
   "cell_type": "code",
   "execution_count": 14,
   "metadata": {},
   "outputs": [
    {
     "data": {
      "text/plain": [
       "0      0.000000\n",
       "1    536.912124\n",
       "2      0.000000\n",
       "3     17.149001\n",
       "4      0.000000\n",
       "Name: Monthly_cash_advance, dtype: float64"
      ]
     },
     "execution_count": 14,
     "metadata": {},
     "output_type": "execute_result"
    }
   ],
   "source": [
    "credit['Monthly_cash_advance'].head()"
   ]
  },
  {
   "cell_type": "code",
   "execution_count": 15,
   "metadata": {},
   "outputs": [
    {
     "data": {
      "text/html": [
       "<div>\n",
       "<style scoped>\n",
       "    .dataframe tbody tr th:only-of-type {\n",
       "        vertical-align: middle;\n",
       "    }\n",
       "\n",
       "    .dataframe tbody tr th {\n",
       "        vertical-align: top;\n",
       "    }\n",
       "\n",
       "    .dataframe thead th {\n",
       "        text-align: right;\n",
       "    }\n",
       "</style>\n",
       "<table border=\"1\" class=\"dataframe\">\n",
       "  <thead>\n",
       "    <tr style=\"text-align: right;\">\n",
       "      <th></th>\n",
       "      <th>ONEOFF_PURCHASES</th>\n",
       "      <th>INSTALLMENTS_PURCHASES</th>\n",
       "    </tr>\n",
       "  </thead>\n",
       "  <tbody>\n",
       "    <tr>\n",
       "      <td>0</td>\n",
       "      <td>0.00</td>\n",
       "      <td>95.40</td>\n",
       "    </tr>\n",
       "    <tr>\n",
       "      <td>1</td>\n",
       "      <td>0.00</td>\n",
       "      <td>0.00</td>\n",
       "    </tr>\n",
       "    <tr>\n",
       "      <td>2</td>\n",
       "      <td>773.17</td>\n",
       "      <td>0.00</td>\n",
       "    </tr>\n",
       "    <tr>\n",
       "      <td>3</td>\n",
       "      <td>1499.00</td>\n",
       "      <td>0.00</td>\n",
       "    </tr>\n",
       "    <tr>\n",
       "      <td>4</td>\n",
       "      <td>16.00</td>\n",
       "      <td>0.00</td>\n",
       "    </tr>\n",
       "    <tr>\n",
       "      <td>5</td>\n",
       "      <td>0.00</td>\n",
       "      <td>1333.28</td>\n",
       "    </tr>\n",
       "    <tr>\n",
       "      <td>6</td>\n",
       "      <td>6402.63</td>\n",
       "      <td>688.38</td>\n",
       "    </tr>\n",
       "    <tr>\n",
       "      <td>7</td>\n",
       "      <td>0.00</td>\n",
       "      <td>436.20</td>\n",
       "    </tr>\n",
       "    <tr>\n",
       "      <td>8</td>\n",
       "      <td>661.49</td>\n",
       "      <td>200.00</td>\n",
       "    </tr>\n",
       "    <tr>\n",
       "      <td>9</td>\n",
       "      <td>1281.60</td>\n",
       "      <td>0.00</td>\n",
       "    </tr>\n",
       "    <tr>\n",
       "      <td>10</td>\n",
       "      <td>0.00</td>\n",
       "      <td>920.12</td>\n",
       "    </tr>\n",
       "    <tr>\n",
       "      <td>11</td>\n",
       "      <td>1492.18</td>\n",
       "      <td>0.00</td>\n",
       "    </tr>\n",
       "    <tr>\n",
       "      <td>12</td>\n",
       "      <td>2500.23</td>\n",
       "      <td>717.76</td>\n",
       "    </tr>\n",
       "    <tr>\n",
       "      <td>13</td>\n",
       "      <td>419.96</td>\n",
       "      <td>1717.97</td>\n",
       "    </tr>\n",
       "    <tr>\n",
       "      <td>14</td>\n",
       "      <td>0.00</td>\n",
       "      <td>0.00</td>\n",
       "    </tr>\n",
       "  </tbody>\n",
       "</table>\n",
       "</div>"
      ],
      "text/plain": [
       "    ONEOFF_PURCHASES  INSTALLMENTS_PURCHASES\n",
       "0               0.00                   95.40\n",
       "1               0.00                    0.00\n",
       "2             773.17                    0.00\n",
       "3            1499.00                    0.00\n",
       "4              16.00                    0.00\n",
       "5               0.00                 1333.28\n",
       "6            6402.63                  688.38\n",
       "7               0.00                  436.20\n",
       "8             661.49                  200.00\n",
       "9            1281.60                    0.00\n",
       "10              0.00                  920.12\n",
       "11           1492.18                    0.00\n",
       "12           2500.23                  717.76\n",
       "13            419.96                 1717.97\n",
       "14              0.00                    0.00"
      ]
     },
     "execution_count": 15,
     "metadata": {},
     "output_type": "execute_result"
    }
   ],
   "source": [
    "credit.loc[:,['ONEOFF_PURCHASES','INSTALLMENTS_PURCHASES']].head(15)"
   ]
  },
  {
   "cell_type": "code",
   "execution_count": 16,
   "metadata": {},
   "outputs": [
    {
     "data": {
      "text/plain": [
       "(2042, 20)"
      ]
     },
     "execution_count": 16,
     "metadata": {},
     "output_type": "execute_result"
    }
   ],
   "source": [
    "credit[(credit['ONEOFF_PURCHASES']==0) & (credit['INSTALLMENTS_PURCHASES']==0)].shape"
   ]
  },
  {
   "cell_type": "code",
   "execution_count": 17,
   "metadata": {},
   "outputs": [
    {
     "data": {
      "text/plain": [
       "(1874, 20)"
      ]
     },
     "execution_count": 17,
     "metadata": {},
     "output_type": "execute_result"
    }
   ],
   "source": [
    "credit[(credit['ONEOFF_PURCHASES'] > 0) & (credit['INSTALLMENTS_PURCHASES']==0)].shape"
   ]
  },
  {
   "cell_type": "code",
   "execution_count": 18,
   "metadata": {},
   "outputs": [
    {
     "data": {
      "text/plain": [
       "(2260, 20)"
      ]
     },
     "execution_count": 18,
     "metadata": {},
     "output_type": "execute_result"
    }
   ],
   "source": [
    "credit[(credit['ONEOFF_PURCHASES']==0) & (credit['INSTALLMENTS_PURCHASES'] > 0)].shape"
   ]
  },
  {
   "cell_type": "code",
   "execution_count": 19,
   "metadata": {},
   "outputs": [
    {
     "data": {
      "text/plain": [
       "(2774, 20)"
      ]
     },
     "execution_count": 19,
     "metadata": {},
     "output_type": "execute_result"
    }
   ],
   "source": [
    "credit[(credit['ONEOFF_PURCHASES'] > 0) & (credit['INSTALLMENTS_PURCHASES'] > 0)].shape"
   ]
  },
  {
   "cell_type": "code",
   "execution_count": 20,
   "metadata": {},
   "outputs": [],
   "source": [
    "def purchase_type(credit):\n",
    "    if ((credit['ONEOFF_PURCHASES']==0) & (credit['INSTALLMENTS_PURCHASES']==0)):\n",
    "        return 'none'\n",
    "    if ((credit['ONEOFF_PURCHASES'] > 0) & (credit['INSTALLMENTS_PURCHASES']==0)):\n",
    "        return 'oneoff'\n",
    "    if ((credit['ONEOFF_PURCHASES']==0) & (credit['INSTALLMENTS_PURCHASES'] > 0)):\n",
    "        return 'installment'\n",
    "    if ((credit['ONEOFF_PURCHASES'] > 0) & (credit['INSTALLMENTS_PURCHASES'] > 0)):\n",
    "        return 'both_oneoff_installment'"
   ]
  },
  {
   "cell_type": "code",
   "execution_count": 21,
   "metadata": {},
   "outputs": [],
   "source": [
    "credit['purchase_type'] = credit.apply(purchase_type,axis = 1)"
   ]
  },
  {
   "cell_type": "code",
   "execution_count": 22,
   "metadata": {},
   "outputs": [
    {
     "data": {
      "text/plain": [
       "both_oneoff_installment    2774\n",
       "installment                2260\n",
       "none                       2042\n",
       "oneoff                     1874\n",
       "Name: purchase_type, dtype: int64"
      ]
     },
     "execution_count": 22,
     "metadata": {},
     "output_type": "execute_result"
    }
   ],
   "source": [
    "credit['purchase_type'].value_counts()"
   ]
  },
  {
   "cell_type": "code",
   "execution_count": 23,
   "metadata": {},
   "outputs": [],
   "source": [
    "credit['LIMIT_USAGE'] = credit['BALANCE']/credit['CREDIT_LIMIT']"
   ]
  },
  {
   "cell_type": "code",
   "execution_count": 24,
   "metadata": {},
   "outputs": [
    {
     "data": {
      "text/plain": [
       "0    0.040901\n",
       "1    0.457495\n",
       "2    0.332687\n",
       "3    0.222223\n",
       "4    0.681429\n",
       "Name: LIMIT_USAGE, dtype: float64"
      ]
     },
     "execution_count": 24,
     "metadata": {},
     "output_type": "execute_result"
    }
   ],
   "source": [
    "credit['LIMIT_USAGE'].head()"
   ]
  },
  {
   "cell_type": "code",
   "execution_count": 25,
   "metadata": {},
   "outputs": [
    {
     "data": {
      "text/html": [
       "<div>\n",
       "<style scoped>\n",
       "    .dataframe tbody tr th:only-of-type {\n",
       "        vertical-align: middle;\n",
       "    }\n",
       "\n",
       "    .dataframe tbody tr th {\n",
       "        vertical-align: top;\n",
       "    }\n",
       "\n",
       "    .dataframe thead th {\n",
       "        text-align: right;\n",
       "    }\n",
       "</style>\n",
       "<table border=\"1\" class=\"dataframe\">\n",
       "  <thead>\n",
       "    <tr style=\"text-align: right;\">\n",
       "      <th></th>\n",
       "      <th>BALANCE</th>\n",
       "      <th>CREDIT_LIMIT</th>\n",
       "      <th>LIMIT_USAGE</th>\n",
       "    </tr>\n",
       "  </thead>\n",
       "  <tbody>\n",
       "    <tr>\n",
       "      <td>0</td>\n",
       "      <td>40.900749</td>\n",
       "      <td>1000.0</td>\n",
       "      <td>0.040901</td>\n",
       "    </tr>\n",
       "    <tr>\n",
       "      <td>1</td>\n",
       "      <td>3202.467416</td>\n",
       "      <td>7000.0</td>\n",
       "      <td>0.457495</td>\n",
       "    </tr>\n",
       "    <tr>\n",
       "      <td>2</td>\n",
       "      <td>2495.148862</td>\n",
       "      <td>7500.0</td>\n",
       "      <td>0.332687</td>\n",
       "    </tr>\n",
       "    <tr>\n",
       "      <td>3</td>\n",
       "      <td>1666.670542</td>\n",
       "      <td>7500.0</td>\n",
       "      <td>0.222223</td>\n",
       "    </tr>\n",
       "    <tr>\n",
       "      <td>4</td>\n",
       "      <td>817.714335</td>\n",
       "      <td>1200.0</td>\n",
       "      <td>0.681429</td>\n",
       "    </tr>\n",
       "  </tbody>\n",
       "</table>\n",
       "</div>"
      ],
      "text/plain": [
       "       BALANCE  CREDIT_LIMIT  LIMIT_USAGE\n",
       "0    40.900749        1000.0     0.040901\n",
       "1  3202.467416        7000.0     0.457495\n",
       "2  2495.148862        7500.0     0.332687\n",
       "3  1666.670542        7500.0     0.222223\n",
       "4   817.714335        1200.0     0.681429"
      ]
     },
     "execution_count": 25,
     "metadata": {},
     "output_type": "execute_result"
    }
   ],
   "source": [
    "credit.loc[:,['BALANCE','CREDIT_LIMIT','LIMIT_USAGE']].head()"
   ]
  },
  {
   "cell_type": "code",
   "execution_count": 26,
   "metadata": {},
   "outputs": [
    {
     "data": {
      "text/plain": [
       "Index(['CUST_ID', 'BALANCE', 'BALANCE_FREQUENCY', 'PURCHASES',\n",
       "       'ONEOFF_PURCHASES', 'INSTALLMENTS_PURCHASES', 'CASH_ADVANCE',\n",
       "       'PURCHASES_FREQUENCY', 'ONEOFF_PURCHASES_FREQUENCY',\n",
       "       'PURCHASES_INSTALLMENTS_FREQUENCY', 'CASH_ADVANCE_FREQUENCY',\n",
       "       'CASH_ADVANCE_TRX', 'PURCHASES_TRX', 'CREDIT_LIMIT', 'PAYMENTS',\n",
       "       'MINIMUM_PAYMENTS', 'PRC_FULL_PAYMENT', 'TENURE',\n",
       "       'Monthly_avg_purchase', 'Monthly_cash_advance', 'purchase_type',\n",
       "       'LIMIT_USAGE'],\n",
       "      dtype='object')"
      ]
     },
     "execution_count": 26,
     "metadata": {},
     "output_type": "execute_result"
    }
   ],
   "source": [
    "credit.columns"
   ]
  },
  {
   "cell_type": "code",
   "execution_count": 27,
   "metadata": {},
   "outputs": [
    {
     "data": {
      "text/html": [
       "<div>\n",
       "<style scoped>\n",
       "    .dataframe tbody tr th:only-of-type {\n",
       "        vertical-align: middle;\n",
       "    }\n",
       "\n",
       "    .dataframe tbody tr th {\n",
       "        vertical-align: top;\n",
       "    }\n",
       "\n",
       "    .dataframe thead th {\n",
       "        text-align: right;\n",
       "    }\n",
       "</style>\n",
       "<table border=\"1\" class=\"dataframe\">\n",
       "  <thead>\n",
       "    <tr style=\"text-align: right;\">\n",
       "      <th></th>\n",
       "      <th>PAYMENTS</th>\n",
       "      <th>MINIMUM_PAYMENTS</th>\n",
       "    </tr>\n",
       "  </thead>\n",
       "  <tbody>\n",
       "    <tr>\n",
       "      <td>0</td>\n",
       "      <td>201.802084</td>\n",
       "      <td>139.509787</td>\n",
       "    </tr>\n",
       "    <tr>\n",
       "      <td>1</td>\n",
       "      <td>4103.032597</td>\n",
       "      <td>1072.340217</td>\n",
       "    </tr>\n",
       "    <tr>\n",
       "      <td>2</td>\n",
       "      <td>622.066742</td>\n",
       "      <td>627.284787</td>\n",
       "    </tr>\n",
       "    <tr>\n",
       "      <td>3</td>\n",
       "      <td>0.000000</td>\n",
       "      <td>312.343947</td>\n",
       "    </tr>\n",
       "    <tr>\n",
       "      <td>4</td>\n",
       "      <td>678.334763</td>\n",
       "      <td>244.791237</td>\n",
       "    </tr>\n",
       "  </tbody>\n",
       "</table>\n",
       "</div>"
      ],
      "text/plain": [
       "      PAYMENTS  MINIMUM_PAYMENTS\n",
       "0   201.802084        139.509787\n",
       "1  4103.032597       1072.340217\n",
       "2   622.066742        627.284787\n",
       "3     0.000000        312.343947\n",
       "4   678.334763        244.791237"
      ]
     },
     "execution_count": 27,
     "metadata": {},
     "output_type": "execute_result"
    }
   ],
   "source": [
    "credit.loc[:,['PAYMENTS','MINIMUM_PAYMENTS']].head()"
   ]
  },
  {
   "cell_type": "code",
   "execution_count": 28,
   "metadata": {},
   "outputs": [],
   "source": [
    "credit['PAY_MINPAY'] = credit['PAYMENTS'] / credit['MINIMUM_PAYMENTS']"
   ]
  },
  {
   "cell_type": "code",
   "execution_count": 29,
   "metadata": {},
   "outputs": [
    {
     "data": {
      "text/html": [
       "<div>\n",
       "<style scoped>\n",
       "    .dataframe tbody tr th:only-of-type {\n",
       "        vertical-align: middle;\n",
       "    }\n",
       "\n",
       "    .dataframe tbody tr th {\n",
       "        vertical-align: top;\n",
       "    }\n",
       "\n",
       "    .dataframe thead th {\n",
       "        text-align: right;\n",
       "    }\n",
       "</style>\n",
       "<table border=\"1\" class=\"dataframe\">\n",
       "  <thead>\n",
       "    <tr style=\"text-align: right;\">\n",
       "      <th></th>\n",
       "      <th>PAYMENTS</th>\n",
       "      <th>MINIMUM_PAYMENTS</th>\n",
       "      <th>PAY_MINPAY</th>\n",
       "    </tr>\n",
       "  </thead>\n",
       "  <tbody>\n",
       "    <tr>\n",
       "      <td>0</td>\n",
       "      <td>201.802084</td>\n",
       "      <td>139.509787</td>\n",
       "      <td>1.446508</td>\n",
       "    </tr>\n",
       "    <tr>\n",
       "      <td>1</td>\n",
       "      <td>4103.032597</td>\n",
       "      <td>1072.340217</td>\n",
       "      <td>3.826241</td>\n",
       "    </tr>\n",
       "    <tr>\n",
       "      <td>2</td>\n",
       "      <td>622.066742</td>\n",
       "      <td>627.284787</td>\n",
       "      <td>0.991682</td>\n",
       "    </tr>\n",
       "    <tr>\n",
       "      <td>3</td>\n",
       "      <td>0.000000</td>\n",
       "      <td>312.343947</td>\n",
       "      <td>0.000000</td>\n",
       "    </tr>\n",
       "    <tr>\n",
       "      <td>4</td>\n",
       "      <td>678.334763</td>\n",
       "      <td>244.791237</td>\n",
       "      <td>2.771075</td>\n",
       "    </tr>\n",
       "  </tbody>\n",
       "</table>\n",
       "</div>"
      ],
      "text/plain": [
       "      PAYMENTS  MINIMUM_PAYMENTS  PAY_MINPAY\n",
       "0   201.802084        139.509787    1.446508\n",
       "1  4103.032597       1072.340217    3.826241\n",
       "2   622.066742        627.284787    0.991682\n",
       "3     0.000000        312.343947    0.000000\n",
       "4   678.334763        244.791237    2.771075"
      ]
     },
     "execution_count": 29,
     "metadata": {},
     "output_type": "execute_result"
    }
   ],
   "source": [
    "credit.loc[:,['PAYMENTS','MINIMUM_PAYMENTS','PAY_MINPAY']].head()"
   ]
  },
  {
   "cell_type": "code",
   "execution_count": 30,
   "metadata": {},
   "outputs": [
    {
     "name": "stdout",
     "output_type": "stream",
     "text": [
      "<class 'pandas.core.frame.DataFrame'>\n",
      "RangeIndex: 8950 entries, 0 to 8949\n",
      "Data columns (total 23 columns):\n",
      "CUST_ID                             8950 non-null object\n",
      "BALANCE                             8950 non-null float64\n",
      "BALANCE_FREQUENCY                   8950 non-null float64\n",
      "PURCHASES                           8950 non-null float64\n",
      "ONEOFF_PURCHASES                    8950 non-null float64\n",
      "INSTALLMENTS_PURCHASES              8950 non-null float64\n",
      "CASH_ADVANCE                        8950 non-null float64\n",
      "PURCHASES_FREQUENCY                 8950 non-null float64\n",
      "ONEOFF_PURCHASES_FREQUENCY          8950 non-null float64\n",
      "PURCHASES_INSTALLMENTS_FREQUENCY    8950 non-null float64\n",
      "CASH_ADVANCE_FREQUENCY              8950 non-null float64\n",
      "CASH_ADVANCE_TRX                    8950 non-null int64\n",
      "PURCHASES_TRX                       8950 non-null int64\n",
      "CREDIT_LIMIT                        8950 non-null float64\n",
      "PAYMENTS                            8950 non-null float64\n",
      "MINIMUM_PAYMENTS                    8950 non-null float64\n",
      "PRC_FULL_PAYMENT                    8950 non-null float64\n",
      "TENURE                              8950 non-null int64\n",
      "Monthly_avg_purchase                8950 non-null float64\n",
      "Monthly_cash_advance                8950 non-null float64\n",
      "purchase_type                       8950 non-null object\n",
      "LIMIT_USAGE                         8950 non-null float64\n",
      "PAY_MINPAY                          8950 non-null float64\n",
      "dtypes: float64(18), int64(3), object(2)\n",
      "memory usage: 1.5+ MB\n"
     ]
    }
   ],
   "source": [
    "credit.info()"
   ]
  },
  {
   "cell_type": "code",
   "execution_count": 31,
   "metadata": {},
   "outputs": [],
   "source": [
    "#pd.get_dummies(credit['purchase_type']).head()\n",
    "credit_original = pd.concat([credit,pd.get_dummies(credit['purchase_type'])],axis = 1)"
   ]
  },
  {
   "cell_type": "markdown",
   "metadata": {},
   "source": [
    "## Treating the outliers\n",
    "\n",
    "Here are treating the outlier by scaling the data using log transformation and we will selecting the column which does not contribute in formation of KPI's"
   ]
  },
  {
   "cell_type": "code",
   "execution_count": 32,
   "metadata": {},
   "outputs": [
    {
     "data": {
      "text/html": [
       "<div>\n",
       "<style scoped>\n",
       "    .dataframe tbody tr th:only-of-type {\n",
       "        vertical-align: middle;\n",
       "    }\n",
       "\n",
       "    .dataframe tbody tr th {\n",
       "        vertical-align: top;\n",
       "    }\n",
       "\n",
       "    .dataframe thead th {\n",
       "        text-align: right;\n",
       "    }\n",
       "</style>\n",
       "<table border=\"1\" class=\"dataframe\">\n",
       "  <thead>\n",
       "    <tr style=\"text-align: right;\">\n",
       "      <th></th>\n",
       "      <th>count</th>\n",
       "      <th>mean</th>\n",
       "      <th>std</th>\n",
       "      <th>min</th>\n",
       "      <th>25%</th>\n",
       "      <th>50%</th>\n",
       "      <th>75%</th>\n",
       "      <th>max</th>\n",
       "    </tr>\n",
       "  </thead>\n",
       "  <tbody>\n",
       "    <tr>\n",
       "      <td>BALANCE</td>\n",
       "      <td>8950.0</td>\n",
       "      <td>1564.474828</td>\n",
       "      <td>2081.531879</td>\n",
       "      <td>0.000000</td>\n",
       "      <td>128.281915</td>\n",
       "      <td>873.385231</td>\n",
       "      <td>2054.140036</td>\n",
       "      <td>19043.138560</td>\n",
       "    </tr>\n",
       "    <tr>\n",
       "      <td>BALANCE_FREQUENCY</td>\n",
       "      <td>8950.0</td>\n",
       "      <td>0.877271</td>\n",
       "      <td>0.236904</td>\n",
       "      <td>0.000000</td>\n",
       "      <td>0.888889</td>\n",
       "      <td>1.000000</td>\n",
       "      <td>1.000000</td>\n",
       "      <td>1.000000</td>\n",
       "    </tr>\n",
       "    <tr>\n",
       "      <td>PURCHASES</td>\n",
       "      <td>8950.0</td>\n",
       "      <td>1003.204834</td>\n",
       "      <td>2136.634782</td>\n",
       "      <td>0.000000</td>\n",
       "      <td>39.635000</td>\n",
       "      <td>361.280000</td>\n",
       "      <td>1110.130000</td>\n",
       "      <td>49039.570000</td>\n",
       "    </tr>\n",
       "    <tr>\n",
       "      <td>ONEOFF_PURCHASES</td>\n",
       "      <td>8950.0</td>\n",
       "      <td>592.437371</td>\n",
       "      <td>1659.887917</td>\n",
       "      <td>0.000000</td>\n",
       "      <td>0.000000</td>\n",
       "      <td>38.000000</td>\n",
       "      <td>577.405000</td>\n",
       "      <td>40761.250000</td>\n",
       "    </tr>\n",
       "    <tr>\n",
       "      <td>INSTALLMENTS_PURCHASES</td>\n",
       "      <td>8950.0</td>\n",
       "      <td>411.067645</td>\n",
       "      <td>904.338115</td>\n",
       "      <td>0.000000</td>\n",
       "      <td>0.000000</td>\n",
       "      <td>89.000000</td>\n",
       "      <td>468.637500</td>\n",
       "      <td>22500.000000</td>\n",
       "    </tr>\n",
       "    <tr>\n",
       "      <td>CASH_ADVANCE</td>\n",
       "      <td>8950.0</td>\n",
       "      <td>978.871112</td>\n",
       "      <td>2097.163877</td>\n",
       "      <td>0.000000</td>\n",
       "      <td>0.000000</td>\n",
       "      <td>0.000000</td>\n",
       "      <td>1113.821139</td>\n",
       "      <td>47137.211760</td>\n",
       "    </tr>\n",
       "    <tr>\n",
       "      <td>PURCHASES_FREQUENCY</td>\n",
       "      <td>8950.0</td>\n",
       "      <td>0.490351</td>\n",
       "      <td>0.401371</td>\n",
       "      <td>0.000000</td>\n",
       "      <td>0.083333</td>\n",
       "      <td>0.500000</td>\n",
       "      <td>0.916667</td>\n",
       "      <td>1.000000</td>\n",
       "    </tr>\n",
       "    <tr>\n",
       "      <td>ONEOFF_PURCHASES_FREQUENCY</td>\n",
       "      <td>8950.0</td>\n",
       "      <td>0.202458</td>\n",
       "      <td>0.298336</td>\n",
       "      <td>0.000000</td>\n",
       "      <td>0.000000</td>\n",
       "      <td>0.083333</td>\n",
       "      <td>0.300000</td>\n",
       "      <td>1.000000</td>\n",
       "    </tr>\n",
       "    <tr>\n",
       "      <td>PURCHASES_INSTALLMENTS_FREQUENCY</td>\n",
       "      <td>8950.0</td>\n",
       "      <td>0.364437</td>\n",
       "      <td>0.397448</td>\n",
       "      <td>0.000000</td>\n",
       "      <td>0.000000</td>\n",
       "      <td>0.166667</td>\n",
       "      <td>0.750000</td>\n",
       "      <td>1.000000</td>\n",
       "    </tr>\n",
       "    <tr>\n",
       "      <td>CASH_ADVANCE_FREQUENCY</td>\n",
       "      <td>8950.0</td>\n",
       "      <td>0.135144</td>\n",
       "      <td>0.200121</td>\n",
       "      <td>0.000000</td>\n",
       "      <td>0.000000</td>\n",
       "      <td>0.000000</td>\n",
       "      <td>0.222222</td>\n",
       "      <td>1.500000</td>\n",
       "    </tr>\n",
       "    <tr>\n",
       "      <td>CASH_ADVANCE_TRX</td>\n",
       "      <td>8950.0</td>\n",
       "      <td>3.248827</td>\n",
       "      <td>6.824647</td>\n",
       "      <td>0.000000</td>\n",
       "      <td>0.000000</td>\n",
       "      <td>0.000000</td>\n",
       "      <td>4.000000</td>\n",
       "      <td>123.000000</td>\n",
       "    </tr>\n",
       "    <tr>\n",
       "      <td>PURCHASES_TRX</td>\n",
       "      <td>8950.0</td>\n",
       "      <td>14.709832</td>\n",
       "      <td>24.857649</td>\n",
       "      <td>0.000000</td>\n",
       "      <td>1.000000</td>\n",
       "      <td>7.000000</td>\n",
       "      <td>17.000000</td>\n",
       "      <td>358.000000</td>\n",
       "    </tr>\n",
       "    <tr>\n",
       "      <td>CREDIT_LIMIT</td>\n",
       "      <td>8950.0</td>\n",
       "      <td>4494.282473</td>\n",
       "      <td>3638.646702</td>\n",
       "      <td>50.000000</td>\n",
       "      <td>1600.000000</td>\n",
       "      <td>3000.000000</td>\n",
       "      <td>6500.000000</td>\n",
       "      <td>30000.000000</td>\n",
       "    </tr>\n",
       "    <tr>\n",
       "      <td>PAYMENTS</td>\n",
       "      <td>8950.0</td>\n",
       "      <td>1733.143852</td>\n",
       "      <td>2895.063757</td>\n",
       "      <td>0.000000</td>\n",
       "      <td>383.276166</td>\n",
       "      <td>856.901546</td>\n",
       "      <td>1901.134317</td>\n",
       "      <td>50721.483360</td>\n",
       "    </tr>\n",
       "    <tr>\n",
       "      <td>MINIMUM_PAYMENTS</td>\n",
       "      <td>8950.0</td>\n",
       "      <td>844.906767</td>\n",
       "      <td>2332.792322</td>\n",
       "      <td>0.019163</td>\n",
       "      <td>170.857654</td>\n",
       "      <td>312.343947</td>\n",
       "      <td>788.713501</td>\n",
       "      <td>76406.207520</td>\n",
       "    </tr>\n",
       "    <tr>\n",
       "      <td>PRC_FULL_PAYMENT</td>\n",
       "      <td>8950.0</td>\n",
       "      <td>0.153715</td>\n",
       "      <td>0.292499</td>\n",
       "      <td>0.000000</td>\n",
       "      <td>0.000000</td>\n",
       "      <td>0.000000</td>\n",
       "      <td>0.142857</td>\n",
       "      <td>1.000000</td>\n",
       "    </tr>\n",
       "    <tr>\n",
       "      <td>TENURE</td>\n",
       "      <td>8950.0</td>\n",
       "      <td>11.517318</td>\n",
       "      <td>1.338331</td>\n",
       "      <td>6.000000</td>\n",
       "      <td>12.000000</td>\n",
       "      <td>12.000000</td>\n",
       "      <td>12.000000</td>\n",
       "      <td>12.000000</td>\n",
       "    </tr>\n",
       "    <tr>\n",
       "      <td>Monthly_avg_purchase</td>\n",
       "      <td>8950.0</td>\n",
       "      <td>86.175173</td>\n",
       "      <td>180.508787</td>\n",
       "      <td>0.000000</td>\n",
       "      <td>3.399375</td>\n",
       "      <td>31.936667</td>\n",
       "      <td>97.228333</td>\n",
       "      <td>4086.630833</td>\n",
       "    </tr>\n",
       "    <tr>\n",
       "      <td>Monthly_cash_advance</td>\n",
       "      <td>8950.0</td>\n",
       "      <td>88.977984</td>\n",
       "      <td>193.136115</td>\n",
       "      <td>0.000000</td>\n",
       "      <td>0.000000</td>\n",
       "      <td>0.000000</td>\n",
       "      <td>99.085196</td>\n",
       "      <td>3928.100980</td>\n",
       "    </tr>\n",
       "    <tr>\n",
       "      <td>LIMIT_USAGE</td>\n",
       "      <td>8950.0</td>\n",
       "      <td>0.388884</td>\n",
       "      <td>0.389722</td>\n",
       "      <td>0.000000</td>\n",
       "      <td>0.041494</td>\n",
       "      <td>0.302720</td>\n",
       "      <td>0.717571</td>\n",
       "      <td>15.909951</td>\n",
       "    </tr>\n",
       "    <tr>\n",
       "      <td>PAY_MINPAY</td>\n",
       "      <td>8950.0</td>\n",
       "      <td>9.059164</td>\n",
       "      <td>118.180526</td>\n",
       "      <td>0.000000</td>\n",
       "      <td>0.913275</td>\n",
       "      <td>2.032717</td>\n",
       "      <td>6.052729</td>\n",
       "      <td>6840.528861</td>\n",
       "    </tr>\n",
       "  </tbody>\n",
       "</table>\n",
       "</div>"
      ],
      "text/plain": [
       "                                   count         mean          std        min  \\\n",
       "BALANCE                           8950.0  1564.474828  2081.531879   0.000000   \n",
       "BALANCE_FREQUENCY                 8950.0     0.877271     0.236904   0.000000   \n",
       "PURCHASES                         8950.0  1003.204834  2136.634782   0.000000   \n",
       "ONEOFF_PURCHASES                  8950.0   592.437371  1659.887917   0.000000   \n",
       "INSTALLMENTS_PURCHASES            8950.0   411.067645   904.338115   0.000000   \n",
       "CASH_ADVANCE                      8950.0   978.871112  2097.163877   0.000000   \n",
       "PURCHASES_FREQUENCY               8950.0     0.490351     0.401371   0.000000   \n",
       "ONEOFF_PURCHASES_FREQUENCY        8950.0     0.202458     0.298336   0.000000   \n",
       "PURCHASES_INSTALLMENTS_FREQUENCY  8950.0     0.364437     0.397448   0.000000   \n",
       "CASH_ADVANCE_FREQUENCY            8950.0     0.135144     0.200121   0.000000   \n",
       "CASH_ADVANCE_TRX                  8950.0     3.248827     6.824647   0.000000   \n",
       "PURCHASES_TRX                     8950.0    14.709832    24.857649   0.000000   \n",
       "CREDIT_LIMIT                      8950.0  4494.282473  3638.646702  50.000000   \n",
       "PAYMENTS                          8950.0  1733.143852  2895.063757   0.000000   \n",
       "MINIMUM_PAYMENTS                  8950.0   844.906767  2332.792322   0.019163   \n",
       "PRC_FULL_PAYMENT                  8950.0     0.153715     0.292499   0.000000   \n",
       "TENURE                            8950.0    11.517318     1.338331   6.000000   \n",
       "Monthly_avg_purchase              8950.0    86.175173   180.508787   0.000000   \n",
       "Monthly_cash_advance              8950.0    88.977984   193.136115   0.000000   \n",
       "LIMIT_USAGE                       8950.0     0.388884     0.389722   0.000000   \n",
       "PAY_MINPAY                        8950.0     9.059164   118.180526   0.000000   \n",
       "\n",
       "                                          25%          50%          75%  \\\n",
       "BALANCE                            128.281915   873.385231  2054.140036   \n",
       "BALANCE_FREQUENCY                    0.888889     1.000000     1.000000   \n",
       "PURCHASES                           39.635000   361.280000  1110.130000   \n",
       "ONEOFF_PURCHASES                     0.000000    38.000000   577.405000   \n",
       "INSTALLMENTS_PURCHASES               0.000000    89.000000   468.637500   \n",
       "CASH_ADVANCE                         0.000000     0.000000  1113.821139   \n",
       "PURCHASES_FREQUENCY                  0.083333     0.500000     0.916667   \n",
       "ONEOFF_PURCHASES_FREQUENCY           0.000000     0.083333     0.300000   \n",
       "PURCHASES_INSTALLMENTS_FREQUENCY     0.000000     0.166667     0.750000   \n",
       "CASH_ADVANCE_FREQUENCY               0.000000     0.000000     0.222222   \n",
       "CASH_ADVANCE_TRX                     0.000000     0.000000     4.000000   \n",
       "PURCHASES_TRX                        1.000000     7.000000    17.000000   \n",
       "CREDIT_LIMIT                      1600.000000  3000.000000  6500.000000   \n",
       "PAYMENTS                           383.276166   856.901546  1901.134317   \n",
       "MINIMUM_PAYMENTS                   170.857654   312.343947   788.713501   \n",
       "PRC_FULL_PAYMENT                     0.000000     0.000000     0.142857   \n",
       "TENURE                              12.000000    12.000000    12.000000   \n",
       "Monthly_avg_purchase                 3.399375    31.936667    97.228333   \n",
       "Monthly_cash_advance                 0.000000     0.000000    99.085196   \n",
       "LIMIT_USAGE                          0.041494     0.302720     0.717571   \n",
       "PAY_MINPAY                           0.913275     2.032717     6.052729   \n",
       "\n",
       "                                           max  \n",
       "BALANCE                           19043.138560  \n",
       "BALANCE_FREQUENCY                     1.000000  \n",
       "PURCHASES                         49039.570000  \n",
       "ONEOFF_PURCHASES                  40761.250000  \n",
       "INSTALLMENTS_PURCHASES            22500.000000  \n",
       "CASH_ADVANCE                      47137.211760  \n",
       "PURCHASES_FREQUENCY                   1.000000  \n",
       "ONEOFF_PURCHASES_FREQUENCY            1.000000  \n",
       "PURCHASES_INSTALLMENTS_FREQUENCY      1.000000  \n",
       "CASH_ADVANCE_FREQUENCY                1.500000  \n",
       "CASH_ADVANCE_TRX                    123.000000  \n",
       "PURCHASES_TRX                       358.000000  \n",
       "CREDIT_LIMIT                      30000.000000  \n",
       "PAYMENTS                          50721.483360  \n",
       "MINIMUM_PAYMENTS                  76406.207520  \n",
       "PRC_FULL_PAYMENT                      1.000000  \n",
       "TENURE                               12.000000  \n",
       "Monthly_avg_purchase               4086.630833  \n",
       "Monthly_cash_advance               3928.100980  \n",
       "LIMIT_USAGE                          15.909951  \n",
       "PAY_MINPAY                         6840.528861  "
      ]
     },
     "execution_count": 32,
     "metadata": {},
     "output_type": "execute_result"
    }
   ],
   "source": [
    "credit.describe().T"
   ]
  },
  {
   "cell_type": "code",
   "execution_count": 33,
   "metadata": {},
   "outputs": [],
   "source": [
    "credit_transform = credit.drop(['CUST_ID','purchase_type'],axis = 1).applymap(lambda x:np.log(x+1))"
   ]
  },
  {
   "cell_type": "code",
   "execution_count": 34,
   "metadata": {
    "scrolled": false
   },
   "outputs": [
    {
     "data": {
      "text/html": [
       "<div>\n",
       "<style scoped>\n",
       "    .dataframe tbody tr th:only-of-type {\n",
       "        vertical-align: middle;\n",
       "    }\n",
       "\n",
       "    .dataframe tbody tr th {\n",
       "        vertical-align: top;\n",
       "    }\n",
       "\n",
       "    .dataframe thead th {\n",
       "        text-align: right;\n",
       "    }\n",
       "</style>\n",
       "<table border=\"1\" class=\"dataframe\">\n",
       "  <thead>\n",
       "    <tr style=\"text-align: right;\">\n",
       "      <th></th>\n",
       "      <th>BALANCE</th>\n",
       "      <th>BALANCE_FREQUENCY</th>\n",
       "      <th>PURCHASES</th>\n",
       "      <th>ONEOFF_PURCHASES</th>\n",
       "      <th>INSTALLMENTS_PURCHASES</th>\n",
       "      <th>CASH_ADVANCE</th>\n",
       "      <th>PURCHASES_FREQUENCY</th>\n",
       "      <th>ONEOFF_PURCHASES_FREQUENCY</th>\n",
       "      <th>PURCHASES_INSTALLMENTS_FREQUENCY</th>\n",
       "      <th>CASH_ADVANCE_FREQUENCY</th>\n",
       "      <th>...</th>\n",
       "      <th>PURCHASES_TRX</th>\n",
       "      <th>CREDIT_LIMIT</th>\n",
       "      <th>PAYMENTS</th>\n",
       "      <th>MINIMUM_PAYMENTS</th>\n",
       "      <th>PRC_FULL_PAYMENT</th>\n",
       "      <th>TENURE</th>\n",
       "      <th>Monthly_avg_purchase</th>\n",
       "      <th>Monthly_cash_advance</th>\n",
       "      <th>LIMIT_USAGE</th>\n",
       "      <th>PAY_MINPAY</th>\n",
       "    </tr>\n",
       "  </thead>\n",
       "  <tbody>\n",
       "    <tr>\n",
       "      <td>0</td>\n",
       "      <td>3.735304</td>\n",
       "      <td>0.597837</td>\n",
       "      <td>4.568506</td>\n",
       "      <td>0.000000</td>\n",
       "      <td>4.568506</td>\n",
       "      <td>0.000000</td>\n",
       "      <td>0.154151</td>\n",
       "      <td>0.000000</td>\n",
       "      <td>0.080042</td>\n",
       "      <td>0.000000</td>\n",
       "      <td>...</td>\n",
       "      <td>1.098612</td>\n",
       "      <td>6.908755</td>\n",
       "      <td>5.312231</td>\n",
       "      <td>4.945277</td>\n",
       "      <td>0.000000</td>\n",
       "      <td>2.564949</td>\n",
       "      <td>2.191654</td>\n",
       "      <td>0.000000</td>\n",
       "      <td>0.040086</td>\n",
       "      <td>0.894662</td>\n",
       "    </tr>\n",
       "    <tr>\n",
       "      <td>1</td>\n",
       "      <td>8.071989</td>\n",
       "      <td>0.646627</td>\n",
       "      <td>0.000000</td>\n",
       "      <td>0.000000</td>\n",
       "      <td>0.000000</td>\n",
       "      <td>8.770896</td>\n",
       "      <td>0.000000</td>\n",
       "      <td>0.000000</td>\n",
       "      <td>0.000000</td>\n",
       "      <td>0.223144</td>\n",
       "      <td>...</td>\n",
       "      <td>0.000000</td>\n",
       "      <td>8.853808</td>\n",
       "      <td>8.319725</td>\n",
       "      <td>6.978531</td>\n",
       "      <td>0.200671</td>\n",
       "      <td>2.564949</td>\n",
       "      <td>0.000000</td>\n",
       "      <td>6.287695</td>\n",
       "      <td>0.376719</td>\n",
       "      <td>1.574068</td>\n",
       "    </tr>\n",
       "    <tr>\n",
       "      <td>2</td>\n",
       "      <td>7.822504</td>\n",
       "      <td>0.693147</td>\n",
       "      <td>6.651791</td>\n",
       "      <td>6.651791</td>\n",
       "      <td>0.000000</td>\n",
       "      <td>0.000000</td>\n",
       "      <td>0.693147</td>\n",
       "      <td>0.693147</td>\n",
       "      <td>0.000000</td>\n",
       "      <td>0.000000</td>\n",
       "      <td>...</td>\n",
       "      <td>2.564949</td>\n",
       "      <td>8.922792</td>\n",
       "      <td>6.434654</td>\n",
       "      <td>6.442994</td>\n",
       "      <td>0.000000</td>\n",
       "      <td>2.564949</td>\n",
       "      <td>4.180994</td>\n",
       "      <td>0.000000</td>\n",
       "      <td>0.287197</td>\n",
       "      <td>0.688979</td>\n",
       "    </tr>\n",
       "    <tr>\n",
       "      <td>3</td>\n",
       "      <td>7.419183</td>\n",
       "      <td>0.492477</td>\n",
       "      <td>7.313220</td>\n",
       "      <td>7.313220</td>\n",
       "      <td>0.000000</td>\n",
       "      <td>5.331694</td>\n",
       "      <td>0.080042</td>\n",
       "      <td>0.080042</td>\n",
       "      <td>0.000000</td>\n",
       "      <td>0.080042</td>\n",
       "      <td>...</td>\n",
       "      <td>0.693147</td>\n",
       "      <td>8.922792</td>\n",
       "      <td>0.000000</td>\n",
       "      <td>5.747301</td>\n",
       "      <td>0.000000</td>\n",
       "      <td>2.564949</td>\n",
       "      <td>4.835620</td>\n",
       "      <td>2.898616</td>\n",
       "      <td>0.200671</td>\n",
       "      <td>0.000000</td>\n",
       "    </tr>\n",
       "    <tr>\n",
       "      <td>4</td>\n",
       "      <td>6.707735</td>\n",
       "      <td>0.693147</td>\n",
       "      <td>2.833213</td>\n",
       "      <td>2.833213</td>\n",
       "      <td>0.000000</td>\n",
       "      <td>0.000000</td>\n",
       "      <td>0.080042</td>\n",
       "      <td>0.080042</td>\n",
       "      <td>0.000000</td>\n",
       "      <td>0.000000</td>\n",
       "      <td>...</td>\n",
       "      <td>0.693147</td>\n",
       "      <td>7.090910</td>\n",
       "      <td>6.521114</td>\n",
       "      <td>5.504483</td>\n",
       "      <td>0.000000</td>\n",
       "      <td>2.564949</td>\n",
       "      <td>0.847298</td>\n",
       "      <td>0.000000</td>\n",
       "      <td>0.519644</td>\n",
       "      <td>1.327360</td>\n",
       "    </tr>\n",
       "  </tbody>\n",
       "</table>\n",
       "<p>5 rows × 21 columns</p>\n",
       "</div>"
      ],
      "text/plain": [
       "    BALANCE  BALANCE_FREQUENCY  PURCHASES  ONEOFF_PURCHASES  \\\n",
       "0  3.735304           0.597837   4.568506          0.000000   \n",
       "1  8.071989           0.646627   0.000000          0.000000   \n",
       "2  7.822504           0.693147   6.651791          6.651791   \n",
       "3  7.419183           0.492477   7.313220          7.313220   \n",
       "4  6.707735           0.693147   2.833213          2.833213   \n",
       "\n",
       "   INSTALLMENTS_PURCHASES  CASH_ADVANCE  PURCHASES_FREQUENCY  \\\n",
       "0                4.568506      0.000000             0.154151   \n",
       "1                0.000000      8.770896             0.000000   \n",
       "2                0.000000      0.000000             0.693147   \n",
       "3                0.000000      5.331694             0.080042   \n",
       "4                0.000000      0.000000             0.080042   \n",
       "\n",
       "   ONEOFF_PURCHASES_FREQUENCY  PURCHASES_INSTALLMENTS_FREQUENCY  \\\n",
       "0                    0.000000                          0.080042   \n",
       "1                    0.000000                          0.000000   \n",
       "2                    0.693147                          0.000000   \n",
       "3                    0.080042                          0.000000   \n",
       "4                    0.080042                          0.000000   \n",
       "\n",
       "   CASH_ADVANCE_FREQUENCY  ...  PURCHASES_TRX  CREDIT_LIMIT  PAYMENTS  \\\n",
       "0                0.000000  ...       1.098612      6.908755  5.312231   \n",
       "1                0.223144  ...       0.000000      8.853808  8.319725   \n",
       "2                0.000000  ...       2.564949      8.922792  6.434654   \n",
       "3                0.080042  ...       0.693147      8.922792  0.000000   \n",
       "4                0.000000  ...       0.693147      7.090910  6.521114   \n",
       "\n",
       "   MINIMUM_PAYMENTS  PRC_FULL_PAYMENT    TENURE  Monthly_avg_purchase  \\\n",
       "0          4.945277          0.000000  2.564949              2.191654   \n",
       "1          6.978531          0.200671  2.564949              0.000000   \n",
       "2          6.442994          0.000000  2.564949              4.180994   \n",
       "3          5.747301          0.000000  2.564949              4.835620   \n",
       "4          5.504483          0.000000  2.564949              0.847298   \n",
       "\n",
       "   Monthly_cash_advance  LIMIT_USAGE  PAY_MINPAY  \n",
       "0              0.000000     0.040086    0.894662  \n",
       "1              6.287695     0.376719    1.574068  \n",
       "2              0.000000     0.287197    0.688979  \n",
       "3              2.898616     0.200671    0.000000  \n",
       "4              0.000000     0.519644    1.327360  \n",
       "\n",
       "[5 rows x 21 columns]"
      ]
     },
     "execution_count": 34,
     "metadata": {},
     "output_type": "execute_result"
    }
   ],
   "source": [
    "credit_transform.head()"
   ]
  },
  {
   "cell_type": "code",
   "execution_count": 35,
   "metadata": {},
   "outputs": [
    {
     "data": {
      "text/html": [
       "<div>\n",
       "<style scoped>\n",
       "    .dataframe tbody tr th:only-of-type {\n",
       "        vertical-align: middle;\n",
       "    }\n",
       "\n",
       "    .dataframe tbody tr th {\n",
       "        vertical-align: top;\n",
       "    }\n",
       "\n",
       "    .dataframe thead th {\n",
       "        text-align: right;\n",
       "    }\n",
       "</style>\n",
       "<table border=\"1\" class=\"dataframe\">\n",
       "  <thead>\n",
       "    <tr style=\"text-align: right;\">\n",
       "      <th></th>\n",
       "      <th>count</th>\n",
       "      <th>mean</th>\n",
       "      <th>std</th>\n",
       "      <th>min</th>\n",
       "      <th>25%</th>\n",
       "      <th>50%</th>\n",
       "      <th>75%</th>\n",
       "      <th>max</th>\n",
       "    </tr>\n",
       "  </thead>\n",
       "  <tbody>\n",
       "    <tr>\n",
       "      <td>BALANCE</td>\n",
       "      <td>8950.0</td>\n",
       "      <td>6.161637</td>\n",
       "      <td>2.013303</td>\n",
       "      <td>0.000000</td>\n",
       "      <td>4.861995</td>\n",
       "      <td>6.773521</td>\n",
       "      <td>7.628099</td>\n",
       "      <td>9.854515</td>\n",
       "    </tr>\n",
       "    <tr>\n",
       "      <td>BALANCE_FREQUENCY</td>\n",
       "      <td>8950.0</td>\n",
       "      <td>0.619940</td>\n",
       "      <td>0.148590</td>\n",
       "      <td>0.000000</td>\n",
       "      <td>0.635989</td>\n",
       "      <td>0.693147</td>\n",
       "      <td>0.693147</td>\n",
       "      <td>0.693147</td>\n",
       "    </tr>\n",
       "    <tr>\n",
       "      <td>PURCHASES</td>\n",
       "      <td>8950.0</td>\n",
       "      <td>4.899647</td>\n",
       "      <td>2.916872</td>\n",
       "      <td>0.000000</td>\n",
       "      <td>3.704627</td>\n",
       "      <td>5.892417</td>\n",
       "      <td>7.013133</td>\n",
       "      <td>10.800403</td>\n",
       "    </tr>\n",
       "    <tr>\n",
       "      <td>ONEOFF_PURCHASES</td>\n",
       "      <td>8950.0</td>\n",
       "      <td>3.204274</td>\n",
       "      <td>3.246365</td>\n",
       "      <td>0.000000</td>\n",
       "      <td>0.000000</td>\n",
       "      <td>3.663562</td>\n",
       "      <td>6.360274</td>\n",
       "      <td>10.615512</td>\n",
       "    </tr>\n",
       "    <tr>\n",
       "      <td>INSTALLMENTS_PURCHASES</td>\n",
       "      <td>8950.0</td>\n",
       "      <td>3.352403</td>\n",
       "      <td>3.082973</td>\n",
       "      <td>0.000000</td>\n",
       "      <td>0.000000</td>\n",
       "      <td>4.499810</td>\n",
       "      <td>6.151961</td>\n",
       "      <td>10.021315</td>\n",
       "    </tr>\n",
       "    <tr>\n",
       "      <td>CASH_ADVANCE</td>\n",
       "      <td>8950.0</td>\n",
       "      <td>3.319086</td>\n",
       "      <td>3.566298</td>\n",
       "      <td>0.000000</td>\n",
       "      <td>0.000000</td>\n",
       "      <td>0.000000</td>\n",
       "      <td>7.016449</td>\n",
       "      <td>10.760839</td>\n",
       "    </tr>\n",
       "    <tr>\n",
       "      <td>PURCHASES_FREQUENCY</td>\n",
       "      <td>8950.0</td>\n",
       "      <td>0.361268</td>\n",
       "      <td>0.277317</td>\n",
       "      <td>0.000000</td>\n",
       "      <td>0.080042</td>\n",
       "      <td>0.405465</td>\n",
       "      <td>0.650588</td>\n",
       "      <td>0.693147</td>\n",
       "    </tr>\n",
       "    <tr>\n",
       "      <td>ONEOFF_PURCHASES_FREQUENCY</td>\n",
       "      <td>8950.0</td>\n",
       "      <td>0.158699</td>\n",
       "      <td>0.216672</td>\n",
       "      <td>0.000000</td>\n",
       "      <td>0.000000</td>\n",
       "      <td>0.080042</td>\n",
       "      <td>0.262364</td>\n",
       "      <td>0.693147</td>\n",
       "    </tr>\n",
       "    <tr>\n",
       "      <td>PURCHASES_INSTALLMENTS_FREQUENCY</td>\n",
       "      <td>8950.0</td>\n",
       "      <td>0.270072</td>\n",
       "      <td>0.281852</td>\n",
       "      <td>0.000000</td>\n",
       "      <td>0.000000</td>\n",
       "      <td>0.154151</td>\n",
       "      <td>0.559616</td>\n",
       "      <td>0.693147</td>\n",
       "    </tr>\n",
       "    <tr>\n",
       "      <td>CASH_ADVANCE_FREQUENCY</td>\n",
       "      <td>8950.0</td>\n",
       "      <td>0.113512</td>\n",
       "      <td>0.156716</td>\n",
       "      <td>0.000000</td>\n",
       "      <td>0.000000</td>\n",
       "      <td>0.000000</td>\n",
       "      <td>0.200671</td>\n",
       "      <td>0.916291</td>\n",
       "    </tr>\n",
       "    <tr>\n",
       "      <td>CASH_ADVANCE_TRX</td>\n",
       "      <td>8950.0</td>\n",
       "      <td>0.817570</td>\n",
       "      <td>1.009316</td>\n",
       "      <td>0.000000</td>\n",
       "      <td>0.000000</td>\n",
       "      <td>0.000000</td>\n",
       "      <td>1.609438</td>\n",
       "      <td>4.820282</td>\n",
       "    </tr>\n",
       "    <tr>\n",
       "      <td>PURCHASES_TRX</td>\n",
       "      <td>8950.0</td>\n",
       "      <td>1.894731</td>\n",
       "      <td>1.373856</td>\n",
       "      <td>0.000000</td>\n",
       "      <td>0.693147</td>\n",
       "      <td>2.079442</td>\n",
       "      <td>2.890372</td>\n",
       "      <td>5.883322</td>\n",
       "    </tr>\n",
       "    <tr>\n",
       "      <td>CREDIT_LIMIT</td>\n",
       "      <td>8950.0</td>\n",
       "      <td>8.094825</td>\n",
       "      <td>0.819629</td>\n",
       "      <td>3.931826</td>\n",
       "      <td>7.378384</td>\n",
       "      <td>8.006701</td>\n",
       "      <td>8.779711</td>\n",
       "      <td>10.308986</td>\n",
       "    </tr>\n",
       "    <tr>\n",
       "      <td>PAYMENTS</td>\n",
       "      <td>8950.0</td>\n",
       "      <td>6.624540</td>\n",
       "      <td>1.591763</td>\n",
       "      <td>0.000000</td>\n",
       "      <td>5.951361</td>\n",
       "      <td>6.754489</td>\n",
       "      <td>7.550732</td>\n",
       "      <td>10.834125</td>\n",
       "    </tr>\n",
       "    <tr>\n",
       "      <td>MINIMUM_PAYMENTS</td>\n",
       "      <td>8950.0</td>\n",
       "      <td>5.916079</td>\n",
       "      <td>1.169929</td>\n",
       "      <td>0.018982</td>\n",
       "      <td>5.146667</td>\n",
       "      <td>5.747301</td>\n",
       "      <td>6.671670</td>\n",
       "      <td>11.243832</td>\n",
       "    </tr>\n",
       "    <tr>\n",
       "      <td>PRC_FULL_PAYMENT</td>\n",
       "      <td>8950.0</td>\n",
       "      <td>0.117730</td>\n",
       "      <td>0.211617</td>\n",
       "      <td>0.000000</td>\n",
       "      <td>0.000000</td>\n",
       "      <td>0.000000</td>\n",
       "      <td>0.133531</td>\n",
       "      <td>0.693147</td>\n",
       "    </tr>\n",
       "    <tr>\n",
       "      <td>TENURE</td>\n",
       "      <td>8950.0</td>\n",
       "      <td>2.519680</td>\n",
       "      <td>0.130367</td>\n",
       "      <td>1.945910</td>\n",
       "      <td>2.564949</td>\n",
       "      <td>2.564949</td>\n",
       "      <td>2.564949</td>\n",
       "      <td>2.564949</td>\n",
       "    </tr>\n",
       "    <tr>\n",
       "      <td>Monthly_avg_purchase</td>\n",
       "      <td>8950.0</td>\n",
       "      <td>3.050877</td>\n",
       "      <td>2.002823</td>\n",
       "      <td>0.000000</td>\n",
       "      <td>1.481458</td>\n",
       "      <td>3.494587</td>\n",
       "      <td>4.587295</td>\n",
       "      <td>8.315721</td>\n",
       "    </tr>\n",
       "    <tr>\n",
       "      <td>Monthly_cash_advance</td>\n",
       "      <td>8950.0</td>\n",
       "      <td>2.163970</td>\n",
       "      <td>2.429741</td>\n",
       "      <td>0.000000</td>\n",
       "      <td>0.000000</td>\n",
       "      <td>0.000000</td>\n",
       "      <td>4.606022</td>\n",
       "      <td>8.276166</td>\n",
       "    </tr>\n",
       "    <tr>\n",
       "      <td>LIMIT_USAGE</td>\n",
       "      <td>8950.0</td>\n",
       "      <td>0.296081</td>\n",
       "      <td>0.250303</td>\n",
       "      <td>0.000000</td>\n",
       "      <td>0.040656</td>\n",
       "      <td>0.264455</td>\n",
       "      <td>0.540911</td>\n",
       "      <td>2.827902</td>\n",
       "    </tr>\n",
       "    <tr>\n",
       "      <td>PAY_MINPAY</td>\n",
       "      <td>8950.0</td>\n",
       "      <td>1.357600</td>\n",
       "      <td>0.940149</td>\n",
       "      <td>0.000000</td>\n",
       "      <td>0.648817</td>\n",
       "      <td>1.109459</td>\n",
       "      <td>1.953415</td>\n",
       "      <td>8.830767</td>\n",
       "    </tr>\n",
       "  </tbody>\n",
       "</table>\n",
       "</div>"
      ],
      "text/plain": [
       "                                   count      mean       std       min  \\\n",
       "BALANCE                           8950.0  6.161637  2.013303  0.000000   \n",
       "BALANCE_FREQUENCY                 8950.0  0.619940  0.148590  0.000000   \n",
       "PURCHASES                         8950.0  4.899647  2.916872  0.000000   \n",
       "ONEOFF_PURCHASES                  8950.0  3.204274  3.246365  0.000000   \n",
       "INSTALLMENTS_PURCHASES            8950.0  3.352403  3.082973  0.000000   \n",
       "CASH_ADVANCE                      8950.0  3.319086  3.566298  0.000000   \n",
       "PURCHASES_FREQUENCY               8950.0  0.361268  0.277317  0.000000   \n",
       "ONEOFF_PURCHASES_FREQUENCY        8950.0  0.158699  0.216672  0.000000   \n",
       "PURCHASES_INSTALLMENTS_FREQUENCY  8950.0  0.270072  0.281852  0.000000   \n",
       "CASH_ADVANCE_FREQUENCY            8950.0  0.113512  0.156716  0.000000   \n",
       "CASH_ADVANCE_TRX                  8950.0  0.817570  1.009316  0.000000   \n",
       "PURCHASES_TRX                     8950.0  1.894731  1.373856  0.000000   \n",
       "CREDIT_LIMIT                      8950.0  8.094825  0.819629  3.931826   \n",
       "PAYMENTS                          8950.0  6.624540  1.591763  0.000000   \n",
       "MINIMUM_PAYMENTS                  8950.0  5.916079  1.169929  0.018982   \n",
       "PRC_FULL_PAYMENT                  8950.0  0.117730  0.211617  0.000000   \n",
       "TENURE                            8950.0  2.519680  0.130367  1.945910   \n",
       "Monthly_avg_purchase              8950.0  3.050877  2.002823  0.000000   \n",
       "Monthly_cash_advance              8950.0  2.163970  2.429741  0.000000   \n",
       "LIMIT_USAGE                       8950.0  0.296081  0.250303  0.000000   \n",
       "PAY_MINPAY                        8950.0  1.357600  0.940149  0.000000   \n",
       "\n",
       "                                       25%       50%       75%        max  \n",
       "BALANCE                           4.861995  6.773521  7.628099   9.854515  \n",
       "BALANCE_FREQUENCY                 0.635989  0.693147  0.693147   0.693147  \n",
       "PURCHASES                         3.704627  5.892417  7.013133  10.800403  \n",
       "ONEOFF_PURCHASES                  0.000000  3.663562  6.360274  10.615512  \n",
       "INSTALLMENTS_PURCHASES            0.000000  4.499810  6.151961  10.021315  \n",
       "CASH_ADVANCE                      0.000000  0.000000  7.016449  10.760839  \n",
       "PURCHASES_FREQUENCY               0.080042  0.405465  0.650588   0.693147  \n",
       "ONEOFF_PURCHASES_FREQUENCY        0.000000  0.080042  0.262364   0.693147  \n",
       "PURCHASES_INSTALLMENTS_FREQUENCY  0.000000  0.154151  0.559616   0.693147  \n",
       "CASH_ADVANCE_FREQUENCY            0.000000  0.000000  0.200671   0.916291  \n",
       "CASH_ADVANCE_TRX                  0.000000  0.000000  1.609438   4.820282  \n",
       "PURCHASES_TRX                     0.693147  2.079442  2.890372   5.883322  \n",
       "CREDIT_LIMIT                      7.378384  8.006701  8.779711  10.308986  \n",
       "PAYMENTS                          5.951361  6.754489  7.550732  10.834125  \n",
       "MINIMUM_PAYMENTS                  5.146667  5.747301  6.671670  11.243832  \n",
       "PRC_FULL_PAYMENT                  0.000000  0.000000  0.133531   0.693147  \n",
       "TENURE                            2.564949  2.564949  2.564949   2.564949  \n",
       "Monthly_avg_purchase              1.481458  3.494587  4.587295   8.315721  \n",
       "Monthly_cash_advance              0.000000  0.000000  4.606022   8.276166  \n",
       "LIMIT_USAGE                       0.040656  0.264455  0.540911   2.827902  \n",
       "PAY_MINPAY                        0.648817  1.109459  1.953415   8.830767  "
      ]
     },
     "execution_count": 35,
     "metadata": {},
     "output_type": "execute_result"
    }
   ],
   "source": [
    "credit_transform.describe().T"
   ]
  },
  {
   "cell_type": "code",
   "execution_count": 36,
   "metadata": {},
   "outputs": [],
   "source": [
    "col=['BALANCE','PURCHASES','CASH_ADVANCE','TENURE','PAYMENTS','MINIMUM_PAYMENTS','PRC_FULL_PAYMENT','CREDIT_LIMIT']\n",
    "credit_transform_selected= credit_transform[[x for x in credit_transform.columns if x not in col ]]"
   ]
  },
  {
   "cell_type": "markdown",
   "metadata": {},
   "source": [
    "## preparing for Machine Learning\n",
    "\n",
    "Here we will be preparing the data for machine learning algorithm.\n",
    "we Need to convert the purchase_type column into binary variable. "
   ]
  },
  {
   "cell_type": "code",
   "execution_count": 37,
   "metadata": {},
   "outputs": [
    {
     "name": "stderr",
     "output_type": "stream",
     "text": [
      "C:\\Users\\jhemmann\\AppData\\Local\\Continuum\\anaconda3\\lib\\site-packages\\ipykernel_launcher.py:1: SettingWithCopyWarning: \n",
      "A value is trying to be set on a copy of a slice from a DataFrame.\n",
      "Try using .loc[row_indexer,col_indexer] = value instead\n",
      "\n",
      "See the caveats in the documentation: http://pandas.pydata.org/pandas-docs/stable/user_guide/indexing.html#returning-a-view-versus-a-copy\n",
      "  \"\"\"Entry point for launching an IPython kernel.\n"
     ]
    }
   ],
   "source": [
    "credit_transform_selected['PURCHASE_TYPE'] = credit.loc[:,'purchase_type']"
   ]
  },
  {
   "cell_type": "code",
   "execution_count": 38,
   "metadata": {},
   "outputs": [
    {
     "data": {
      "text/plain": [
       "Index(['BALANCE_FREQUENCY', 'ONEOFF_PURCHASES', 'INSTALLMENTS_PURCHASES',\n",
       "       'PURCHASES_FREQUENCY', 'ONEOFF_PURCHASES_FREQUENCY',\n",
       "       'PURCHASES_INSTALLMENTS_FREQUENCY', 'CASH_ADVANCE_FREQUENCY',\n",
       "       'CASH_ADVANCE_TRX', 'PURCHASES_TRX', 'Monthly_avg_purchase',\n",
       "       'Monthly_cash_advance', 'LIMIT_USAGE', 'PAY_MINPAY', 'PURCHASE_TYPE'],\n",
       "      dtype='object')"
      ]
     },
     "execution_count": 38,
     "metadata": {},
     "output_type": "execute_result"
    }
   ],
   "source": [
    "credit_transform_selected.columns"
   ]
  },
  {
   "cell_type": "code",
   "execution_count": 39,
   "metadata": {},
   "outputs": [
    {
     "data": {
      "text/html": [
       "<div>\n",
       "<style scoped>\n",
       "    .dataframe tbody tr th:only-of-type {\n",
       "        vertical-align: middle;\n",
       "    }\n",
       "\n",
       "    .dataframe tbody tr th {\n",
       "        vertical-align: top;\n",
       "    }\n",
       "\n",
       "    .dataframe thead th {\n",
       "        text-align: right;\n",
       "    }\n",
       "</style>\n",
       "<table border=\"1\" class=\"dataframe\">\n",
       "  <thead>\n",
       "    <tr style=\"text-align: right;\">\n",
       "      <th></th>\n",
       "      <th>both_oneoff_installment</th>\n",
       "      <th>installment</th>\n",
       "      <th>none</th>\n",
       "      <th>oneoff</th>\n",
       "    </tr>\n",
       "  </thead>\n",
       "  <tbody>\n",
       "    <tr>\n",
       "      <td>0</td>\n",
       "      <td>0</td>\n",
       "      <td>1</td>\n",
       "      <td>0</td>\n",
       "      <td>0</td>\n",
       "    </tr>\n",
       "    <tr>\n",
       "      <td>1</td>\n",
       "      <td>0</td>\n",
       "      <td>0</td>\n",
       "      <td>1</td>\n",
       "      <td>0</td>\n",
       "    </tr>\n",
       "    <tr>\n",
       "      <td>2</td>\n",
       "      <td>0</td>\n",
       "      <td>0</td>\n",
       "      <td>0</td>\n",
       "      <td>1</td>\n",
       "    </tr>\n",
       "    <tr>\n",
       "      <td>3</td>\n",
       "      <td>0</td>\n",
       "      <td>0</td>\n",
       "      <td>0</td>\n",
       "      <td>1</td>\n",
       "    </tr>\n",
       "    <tr>\n",
       "      <td>4</td>\n",
       "      <td>0</td>\n",
       "      <td>0</td>\n",
       "      <td>0</td>\n",
       "      <td>1</td>\n",
       "    </tr>\n",
       "  </tbody>\n",
       "</table>\n",
       "</div>"
      ],
      "text/plain": [
       "   both_oneoff_installment  installment  none  oneoff\n",
       "0                        0            1     0       0\n",
       "1                        0            0     1       0\n",
       "2                        0            0     0       1\n",
       "3                        0            0     0       1\n",
       "4                        0            0     0       1"
      ]
     },
     "execution_count": 39,
     "metadata": {},
     "output_type": "execute_result"
    }
   ],
   "source": [
    "pd.get_dummies(credit_transform_selected['PURCHASE_TYPE']).head()"
   ]
  },
  {
   "cell_type": "code",
   "execution_count": 40,
   "metadata": {},
   "outputs": [],
   "source": [
    "credit_transform_selected_ML = pd.concat([credit_transform_selected,pd.get_dummies(credit_transform_selected['PURCHASE_TYPE'])],axis = 1)"
   ]
  },
  {
   "cell_type": "code",
   "execution_count": 41,
   "metadata": {},
   "outputs": [
    {
     "data": {
      "text/plain": [
       "BALANCE_FREQUENCY                   0\n",
       "ONEOFF_PURCHASES                    0\n",
       "INSTALLMENTS_PURCHASES              0\n",
       "PURCHASES_FREQUENCY                 0\n",
       "ONEOFF_PURCHASES_FREQUENCY          0\n",
       "PURCHASES_INSTALLMENTS_FREQUENCY    0\n",
       "CASH_ADVANCE_FREQUENCY              0\n",
       "CASH_ADVANCE_TRX                    0\n",
       "PURCHASES_TRX                       0\n",
       "Monthly_avg_purchase                0\n",
       "Monthly_cash_advance                0\n",
       "LIMIT_USAGE                         0\n",
       "PAY_MINPAY                          0\n",
       "both_oneoff_installment             0\n",
       "installment                         0\n",
       "none                                0\n",
       "oneoff                              0\n",
       "dtype: int64"
      ]
     },
     "execution_count": 41,
     "metadata": {},
     "output_type": "execute_result"
    }
   ],
   "source": [
    "drop_col = ['PURCHASE_TYPE']\n",
    "credit_transform_selected_ML = credit_transform_selected_ML.drop(drop_col,axis = 1)\n",
    "credit_transform_selected_ML.isna().sum()"
   ]
  },
  {
   "cell_type": "code",
   "execution_count": 42,
   "metadata": {},
   "outputs": [
    {
     "data": {
      "text/html": [
       "<div>\n",
       "<style scoped>\n",
       "    .dataframe tbody tr th:only-of-type {\n",
       "        vertical-align: middle;\n",
       "    }\n",
       "\n",
       "    .dataframe tbody tr th {\n",
       "        vertical-align: top;\n",
       "    }\n",
       "\n",
       "    .dataframe thead th {\n",
       "        text-align: right;\n",
       "    }\n",
       "</style>\n",
       "<table border=\"1\" class=\"dataframe\">\n",
       "  <thead>\n",
       "    <tr style=\"text-align: right;\">\n",
       "      <th></th>\n",
       "      <th>count</th>\n",
       "      <th>mean</th>\n",
       "      <th>std</th>\n",
       "      <th>min</th>\n",
       "      <th>25%</th>\n",
       "      <th>50%</th>\n",
       "      <th>75%</th>\n",
       "      <th>max</th>\n",
       "    </tr>\n",
       "  </thead>\n",
       "  <tbody>\n",
       "    <tr>\n",
       "      <td>BALANCE_FREQUENCY</td>\n",
       "      <td>8950.0</td>\n",
       "      <td>0.619940</td>\n",
       "      <td>0.148590</td>\n",
       "      <td>0.0</td>\n",
       "      <td>0.635989</td>\n",
       "      <td>0.693147</td>\n",
       "      <td>0.693147</td>\n",
       "      <td>0.693147</td>\n",
       "    </tr>\n",
       "    <tr>\n",
       "      <td>ONEOFF_PURCHASES</td>\n",
       "      <td>8950.0</td>\n",
       "      <td>3.204274</td>\n",
       "      <td>3.246365</td>\n",
       "      <td>0.0</td>\n",
       "      <td>0.000000</td>\n",
       "      <td>3.663562</td>\n",
       "      <td>6.360274</td>\n",
       "      <td>10.615512</td>\n",
       "    </tr>\n",
       "    <tr>\n",
       "      <td>INSTALLMENTS_PURCHASES</td>\n",
       "      <td>8950.0</td>\n",
       "      <td>3.352403</td>\n",
       "      <td>3.082973</td>\n",
       "      <td>0.0</td>\n",
       "      <td>0.000000</td>\n",
       "      <td>4.499810</td>\n",
       "      <td>6.151961</td>\n",
       "      <td>10.021315</td>\n",
       "    </tr>\n",
       "    <tr>\n",
       "      <td>PURCHASES_FREQUENCY</td>\n",
       "      <td>8950.0</td>\n",
       "      <td>0.361268</td>\n",
       "      <td>0.277317</td>\n",
       "      <td>0.0</td>\n",
       "      <td>0.080042</td>\n",
       "      <td>0.405465</td>\n",
       "      <td>0.650588</td>\n",
       "      <td>0.693147</td>\n",
       "    </tr>\n",
       "    <tr>\n",
       "      <td>ONEOFF_PURCHASES_FREQUENCY</td>\n",
       "      <td>8950.0</td>\n",
       "      <td>0.158699</td>\n",
       "      <td>0.216672</td>\n",
       "      <td>0.0</td>\n",
       "      <td>0.000000</td>\n",
       "      <td>0.080042</td>\n",
       "      <td>0.262364</td>\n",
       "      <td>0.693147</td>\n",
       "    </tr>\n",
       "    <tr>\n",
       "      <td>PURCHASES_INSTALLMENTS_FREQUENCY</td>\n",
       "      <td>8950.0</td>\n",
       "      <td>0.270072</td>\n",
       "      <td>0.281852</td>\n",
       "      <td>0.0</td>\n",
       "      <td>0.000000</td>\n",
       "      <td>0.154151</td>\n",
       "      <td>0.559616</td>\n",
       "      <td>0.693147</td>\n",
       "    </tr>\n",
       "    <tr>\n",
       "      <td>CASH_ADVANCE_FREQUENCY</td>\n",
       "      <td>8950.0</td>\n",
       "      <td>0.113512</td>\n",
       "      <td>0.156716</td>\n",
       "      <td>0.0</td>\n",
       "      <td>0.000000</td>\n",
       "      <td>0.000000</td>\n",
       "      <td>0.200671</td>\n",
       "      <td>0.916291</td>\n",
       "    </tr>\n",
       "    <tr>\n",
       "      <td>CASH_ADVANCE_TRX</td>\n",
       "      <td>8950.0</td>\n",
       "      <td>0.817570</td>\n",
       "      <td>1.009316</td>\n",
       "      <td>0.0</td>\n",
       "      <td>0.000000</td>\n",
       "      <td>0.000000</td>\n",
       "      <td>1.609438</td>\n",
       "      <td>4.820282</td>\n",
       "    </tr>\n",
       "    <tr>\n",
       "      <td>PURCHASES_TRX</td>\n",
       "      <td>8950.0</td>\n",
       "      <td>1.894731</td>\n",
       "      <td>1.373856</td>\n",
       "      <td>0.0</td>\n",
       "      <td>0.693147</td>\n",
       "      <td>2.079442</td>\n",
       "      <td>2.890372</td>\n",
       "      <td>5.883322</td>\n",
       "    </tr>\n",
       "    <tr>\n",
       "      <td>Monthly_avg_purchase</td>\n",
       "      <td>8950.0</td>\n",
       "      <td>3.050877</td>\n",
       "      <td>2.002823</td>\n",
       "      <td>0.0</td>\n",
       "      <td>1.481458</td>\n",
       "      <td>3.494587</td>\n",
       "      <td>4.587295</td>\n",
       "      <td>8.315721</td>\n",
       "    </tr>\n",
       "    <tr>\n",
       "      <td>Monthly_cash_advance</td>\n",
       "      <td>8950.0</td>\n",
       "      <td>2.163970</td>\n",
       "      <td>2.429741</td>\n",
       "      <td>0.0</td>\n",
       "      <td>0.000000</td>\n",
       "      <td>0.000000</td>\n",
       "      <td>4.606022</td>\n",
       "      <td>8.276166</td>\n",
       "    </tr>\n",
       "    <tr>\n",
       "      <td>LIMIT_USAGE</td>\n",
       "      <td>8950.0</td>\n",
       "      <td>0.296081</td>\n",
       "      <td>0.250303</td>\n",
       "      <td>0.0</td>\n",
       "      <td>0.040656</td>\n",
       "      <td>0.264455</td>\n",
       "      <td>0.540911</td>\n",
       "      <td>2.827902</td>\n",
       "    </tr>\n",
       "    <tr>\n",
       "      <td>PAY_MINPAY</td>\n",
       "      <td>8950.0</td>\n",
       "      <td>1.357600</td>\n",
       "      <td>0.940149</td>\n",
       "      <td>0.0</td>\n",
       "      <td>0.648817</td>\n",
       "      <td>1.109459</td>\n",
       "      <td>1.953415</td>\n",
       "      <td>8.830767</td>\n",
       "    </tr>\n",
       "    <tr>\n",
       "      <td>both_oneoff_installment</td>\n",
       "      <td>8950.0</td>\n",
       "      <td>0.309944</td>\n",
       "      <td>0.462496</td>\n",
       "      <td>0.0</td>\n",
       "      <td>0.000000</td>\n",
       "      <td>0.000000</td>\n",
       "      <td>1.000000</td>\n",
       "      <td>1.000000</td>\n",
       "    </tr>\n",
       "    <tr>\n",
       "      <td>installment</td>\n",
       "      <td>8950.0</td>\n",
       "      <td>0.252514</td>\n",
       "      <td>0.434479</td>\n",
       "      <td>0.0</td>\n",
       "      <td>0.000000</td>\n",
       "      <td>0.000000</td>\n",
       "      <td>1.000000</td>\n",
       "      <td>1.000000</td>\n",
       "    </tr>\n",
       "    <tr>\n",
       "      <td>none</td>\n",
       "      <td>8950.0</td>\n",
       "      <td>0.228156</td>\n",
       "      <td>0.419667</td>\n",
       "      <td>0.0</td>\n",
       "      <td>0.000000</td>\n",
       "      <td>0.000000</td>\n",
       "      <td>0.000000</td>\n",
       "      <td>1.000000</td>\n",
       "    </tr>\n",
       "    <tr>\n",
       "      <td>oneoff</td>\n",
       "      <td>8950.0</td>\n",
       "      <td>0.209385</td>\n",
       "      <td>0.406893</td>\n",
       "      <td>0.0</td>\n",
       "      <td>0.000000</td>\n",
       "      <td>0.000000</td>\n",
       "      <td>0.000000</td>\n",
       "      <td>1.000000</td>\n",
       "    </tr>\n",
       "  </tbody>\n",
       "</table>\n",
       "</div>"
      ],
      "text/plain": [
       "                                   count      mean       std  min       25%  \\\n",
       "BALANCE_FREQUENCY                 8950.0  0.619940  0.148590  0.0  0.635989   \n",
       "ONEOFF_PURCHASES                  8950.0  3.204274  3.246365  0.0  0.000000   \n",
       "INSTALLMENTS_PURCHASES            8950.0  3.352403  3.082973  0.0  0.000000   \n",
       "PURCHASES_FREQUENCY               8950.0  0.361268  0.277317  0.0  0.080042   \n",
       "ONEOFF_PURCHASES_FREQUENCY        8950.0  0.158699  0.216672  0.0  0.000000   \n",
       "PURCHASES_INSTALLMENTS_FREQUENCY  8950.0  0.270072  0.281852  0.0  0.000000   \n",
       "CASH_ADVANCE_FREQUENCY            8950.0  0.113512  0.156716  0.0  0.000000   \n",
       "CASH_ADVANCE_TRX                  8950.0  0.817570  1.009316  0.0  0.000000   \n",
       "PURCHASES_TRX                     8950.0  1.894731  1.373856  0.0  0.693147   \n",
       "Monthly_avg_purchase              8950.0  3.050877  2.002823  0.0  1.481458   \n",
       "Monthly_cash_advance              8950.0  2.163970  2.429741  0.0  0.000000   \n",
       "LIMIT_USAGE                       8950.0  0.296081  0.250303  0.0  0.040656   \n",
       "PAY_MINPAY                        8950.0  1.357600  0.940149  0.0  0.648817   \n",
       "both_oneoff_installment           8950.0  0.309944  0.462496  0.0  0.000000   \n",
       "installment                       8950.0  0.252514  0.434479  0.0  0.000000   \n",
       "none                              8950.0  0.228156  0.419667  0.0  0.000000   \n",
       "oneoff                            8950.0  0.209385  0.406893  0.0  0.000000   \n",
       "\n",
       "                                       50%       75%        max  \n",
       "BALANCE_FREQUENCY                 0.693147  0.693147   0.693147  \n",
       "ONEOFF_PURCHASES                  3.663562  6.360274  10.615512  \n",
       "INSTALLMENTS_PURCHASES            4.499810  6.151961  10.021315  \n",
       "PURCHASES_FREQUENCY               0.405465  0.650588   0.693147  \n",
       "ONEOFF_PURCHASES_FREQUENCY        0.080042  0.262364   0.693147  \n",
       "PURCHASES_INSTALLMENTS_FREQUENCY  0.154151  0.559616   0.693147  \n",
       "CASH_ADVANCE_FREQUENCY            0.000000  0.200671   0.916291  \n",
       "CASH_ADVANCE_TRX                  0.000000  1.609438   4.820282  \n",
       "PURCHASES_TRX                     2.079442  2.890372   5.883322  \n",
       "Monthly_avg_purchase              3.494587  4.587295   8.315721  \n",
       "Monthly_cash_advance              0.000000  4.606022   8.276166  \n",
       "LIMIT_USAGE                       0.264455  0.540911   2.827902  \n",
       "PAY_MINPAY                        1.109459  1.953415   8.830767  \n",
       "both_oneoff_installment           0.000000  1.000000   1.000000  \n",
       "installment                       0.000000  1.000000   1.000000  \n",
       "none                              0.000000  0.000000   1.000000  \n",
       "oneoff                            0.000000  0.000000   1.000000  "
      ]
     },
     "execution_count": 42,
     "metadata": {},
     "output_type": "execute_result"
    }
   ],
   "source": [
    "credit_transform_selected_ML.describe().T"
   ]
  },
  {
   "cell_type": "code",
   "execution_count": 43,
   "metadata": {},
   "outputs": [
    {
     "data": {
      "text/plain": [
       "Index(['BALANCE_FREQUENCY', 'ONEOFF_PURCHASES', 'INSTALLMENTS_PURCHASES',\n",
       "       'PURCHASES_FREQUENCY', 'ONEOFF_PURCHASES_FREQUENCY',\n",
       "       'PURCHASES_INSTALLMENTS_FREQUENCY', 'CASH_ADVANCE_FREQUENCY',\n",
       "       'CASH_ADVANCE_TRX', 'PURCHASES_TRX', 'Monthly_avg_purchase',\n",
       "       'Monthly_cash_advance', 'LIMIT_USAGE', 'PAY_MINPAY',\n",
       "       'both_oneoff_installment', 'installment', 'none', 'oneoff'],\n",
       "      dtype='object')"
      ]
     },
     "execution_count": 43,
     "metadata": {},
     "output_type": "execute_result"
    }
   ],
   "source": [
    "credit_transform_selected_ML.columns"
   ]
  },
  {
   "cell_type": "code",
   "execution_count": 44,
   "metadata": {},
   "outputs": [
    {
     "data": {
      "text/plain": [
       "<matplotlib.axes._subplots.AxesSubplot at 0xa39af90>"
      ]
     },
     "execution_count": 44,
     "metadata": {},
     "output_type": "execute_result"
    },
    {
     "data": {
      "image/png": "[encoded data removed]",
      "text/plain": [
       "<Figure size 432x288 with 2 Axes>"
      ]
     },
     "metadata": {
      "needs_background": "light"
     },
     "output_type": "display_data"
    }
   ],
   "source": [
    "sns.heatmap(credit_transform_selected_ML.corr())"
   ]
  },
  {
   "cell_type": "markdown",
   "metadata": {},
   "source": [
    "By seeing the heatmap we can conclude that number of variable is too much and we need to reduce the number of variable."
   ]
  },
  {
   "cell_type": "markdown",
   "metadata": {},
   "source": [
    "### Standardrizing and scaling of the data  "
   ]
  },
  {
   "cell_type": "markdown",
   "metadata": {},
   "source": [
    "We can reduce the number of variable by using the PCA (principal Component Algorithm). For PCA to work we need to scale the data and then we will be using the PCA.\n",
    "\n",
    "Before Applying the PCA we need to find the optimal value for number of component. we will be using the elbow method to find the optimal number of component"
   ]
  },
  {
   "cell_type": "code",
   "execution_count": 45,
   "metadata": {},
   "outputs": [],
   "source": [
    "from sklearn.preprocessing import StandardScaler\n",
    "scaler = StandardScaler()\n",
    "credit_scaled_ML = scaler.fit_transform(credit_transform_selected_ML)"
   ]
  },
  {
   "cell_type": "markdown",
   "metadata": {},
   "source": [
    "### Applying the PCA "
   ]
  },
  {
   "cell_type": "code",
   "execution_count": 46,
   "metadata": {},
   "outputs": [],
   "source": [
    "from sklearn.decomposition import PCA"
   ]
  },
  {
   "cell_type": "code",
   "execution_count": 47,
   "metadata": {},
   "outputs": [
    {
     "data": {
      "text/plain": [
       "(8950, 17)"
      ]
     },
     "execution_count": 47,
     "metadata": {},
     "output_type": "execute_result"
    }
   ],
   "source": [
    "credit_scaled_ML.shape"
   ]
  },
  {
   "cell_type": "code",
   "execution_count": 48,
   "metadata": {},
   "outputs": [],
   "source": [
    "var_ratio = {}\n",
    "for n in range(4,15):\n",
    "    pc = PCA(n_components = n)\n",
    "    credit_scaled_pca = pc.fit(credit_scaled_ML)\n",
    "    var_ratio[n] = sum(credit_scaled_pca.explained_variance_ratio_)"
   ]
  },
  {
   "cell_type": "code",
   "execution_count": 49,
   "metadata": {},
   "outputs": [
    {
     "data": {
      "text/plain": [
       "(8950, 17)"
      ]
     },
     "execution_count": 49,
     "metadata": {},
     "output_type": "execute_result"
    }
   ],
   "source": [
    "credit_scaled_ML.shape"
   ]
  },
  {
   "cell_type": "code",
   "execution_count": 50,
   "metadata": {},
   "outputs": [
    {
     "data": {
      "text/plain": [
       "{4: 0.8115442762351261,\n",
       " 5: 0.877055579529143,\n",
       " 6: 0.9186492443512619,\n",
       " 7: 0.9410925256030135,\n",
       " 8: 0.961611405368306,\n",
       " 9: 0.9739787081990647,\n",
       " 10: 0.9835896584630718,\n",
       " 11: 0.9897248107341949,\n",
       " 12: 0.9927550009135229,\n",
       " 13: 0.9953907562385427,\n",
       " 14: 0.9979616898169594}"
      ]
     },
     "execution_count": 50,
     "metadata": {},
     "output_type": "execute_result"
    }
   ],
   "source": [
    "var_ratio"
   ]
  },
  {
   "cell_type": "code",
   "execution_count": 51,
   "metadata": {},
   "outputs": [
    {
     "data": {
      "image/png": "[encoded data removed]",
      "text/plain": [
       "<Figure size 432x288 with 1 Axes>"
      ]
     },
     "metadata": {
      "needs_background": "light"
     },
     "output_type": "display_data"
    }
   ],
   "source": [
    "plt.figure()\n",
    "plt.plot(np.cumsum(credit_scaled_pca.explained_variance_ratio_),marker = \"o\")\n",
    "plt.xlabel('Number of Components')\n",
    "plt.ylabel('Variance (%)') #for each component\n",
    "plt.show()"
   ]
  },
  {
   "cell_type": "markdown",
   "metadata": {},
   "source": [
    "This plot tells us that selecting 5 components we can preserve something around 87% of the total variance of the data. It makes sense, we’ll not use 100% of our variance, because it denotes all components, and we want only the principal ones.\n",
    "With this information in our hands, we can implement the PCA for 5 best components."
   ]
  },
  {
   "cell_type": "code",
   "execution_count": 52,
   "metadata": {},
   "outputs": [],
   "source": [
    "credit_pca_final = PCA(n_components=5).fit(credit_scaled_ML)"
   ]
  },
  {
   "cell_type": "code",
   "execution_count": 53,
   "metadata": {},
   "outputs": [],
   "source": [
    "credit_reduced_feature = credit_pca_final.fit_transform(credit_scaled_ML)"
   ]
  },
  {
   "cell_type": "code",
   "execution_count": 54,
   "metadata": {},
   "outputs": [],
   "source": [
    "df_credit_reduced_feature = pd.DataFrame(credit_reduced_feature)"
   ]
  },
  {
   "cell_type": "code",
   "execution_count": 55,
   "metadata": {},
   "outputs": [
    {
     "data": {
      "text/plain": [
       "(8950, 5)"
      ]
     },
     "execution_count": 55,
     "metadata": {},
     "output_type": "execute_result"
    }
   ],
   "source": [
    "df_credit_reduced_feature.shape"
   ]
  },
  {
   "cell_type": "code",
   "execution_count": 56,
   "metadata": {},
   "outputs": [
    {
     "data": {
      "text/plain": [
       "Index(['BALANCE_FREQUENCY', 'ONEOFF_PURCHASES', 'INSTALLMENTS_PURCHASES',\n",
       "       'PURCHASES_FREQUENCY', 'ONEOFF_PURCHASES_FREQUENCY',\n",
       "       'PURCHASES_INSTALLMENTS_FREQUENCY', 'CASH_ADVANCE_FREQUENCY',\n",
       "       'CASH_ADVANCE_TRX', 'PURCHASES_TRX', 'Monthly_avg_purchase',\n",
       "       'Monthly_cash_advance', 'LIMIT_USAGE', 'PAY_MINPAY',\n",
       "       'both_oneoff_installment', 'installment', 'none', 'oneoff'],\n",
       "      dtype='object')"
      ]
     },
     "execution_count": 56,
     "metadata": {},
     "output_type": "execute_result"
    }
   ],
   "source": [
    "col_list = credit_transform_selected_ML.columns\n",
    "col_list"
   ]
  },
  {
   "cell_type": "code",
   "execution_count": 57,
   "metadata": {},
   "outputs": [
    {
     "data": {
      "text/html": [
       "<div>\n",
       "<style scoped>\n",
       "    .dataframe tbody tr th:only-of-type {\n",
       "        vertical-align: middle;\n",
       "    }\n",
       "\n",
       "    .dataframe tbody tr th {\n",
       "        vertical-align: top;\n",
       "    }\n",
       "\n",
       "    .dataframe thead th {\n",
       "        text-align: right;\n",
       "    }\n",
       "</style>\n",
       "<table border=\"1\" class=\"dataframe\">\n",
       "  <thead>\n",
       "    <tr style=\"text-align: right;\">\n",
       "      <th></th>\n",
       "      <th>PC_0</th>\n",
       "      <th>PC_1</th>\n",
       "      <th>PC_2</th>\n",
       "      <th>PC_3</th>\n",
       "      <th>PC_4</th>\n",
       "    </tr>\n",
       "  </thead>\n",
       "  <tbody>\n",
       "    <tr>\n",
       "      <td>BALANCE_FREQUENCY</td>\n",
       "      <td>0.029707</td>\n",
       "      <td>0.240072</td>\n",
       "      <td>-0.263140</td>\n",
       "      <td>-0.353549</td>\n",
       "      <td>-0.228681</td>\n",
       "    </tr>\n",
       "    <tr>\n",
       "      <td>ONEOFF_PURCHASES</td>\n",
       "      <td>0.214107</td>\n",
       "      <td>0.406078</td>\n",
       "      <td>0.239165</td>\n",
       "      <td>0.001520</td>\n",
       "      <td>-0.023197</td>\n",
       "    </tr>\n",
       "    <tr>\n",
       "      <td>INSTALLMENTS_PURCHASES</td>\n",
       "      <td>0.312051</td>\n",
       "      <td>-0.098404</td>\n",
       "      <td>-0.315625</td>\n",
       "      <td>0.087983</td>\n",
       "      <td>-0.002181</td>\n",
       "    </tr>\n",
       "    <tr>\n",
       "      <td>PURCHASES_FREQUENCY</td>\n",
       "      <td>0.345823</td>\n",
       "      <td>0.015813</td>\n",
       "      <td>-0.162843</td>\n",
       "      <td>-0.074617</td>\n",
       "      <td>0.115948</td>\n",
       "    </tr>\n",
       "    <tr>\n",
       "      <td>ONEOFF_PURCHASES_FREQUENCY</td>\n",
       "      <td>0.214702</td>\n",
       "      <td>0.362208</td>\n",
       "      <td>0.163222</td>\n",
       "      <td>0.036303</td>\n",
       "      <td>-0.051279</td>\n",
       "    </tr>\n",
       "    <tr>\n",
       "      <td>PURCHASES_INSTALLMENTS_FREQUENCY</td>\n",
       "      <td>0.295451</td>\n",
       "      <td>-0.112002</td>\n",
       "      <td>-0.330029</td>\n",
       "      <td>0.023502</td>\n",
       "      <td>0.025871</td>\n",
       "    </tr>\n",
       "    <tr>\n",
       "      <td>CASH_ADVANCE_FREQUENCY</td>\n",
       "      <td>-0.214336</td>\n",
       "      <td>0.286074</td>\n",
       "      <td>-0.278586</td>\n",
       "      <td>0.096353</td>\n",
       "      <td>0.360132</td>\n",
       "    </tr>\n",
       "    <tr>\n",
       "      <td>CASH_ADVANCE_TRX</td>\n",
       "      <td>-0.229393</td>\n",
       "      <td>0.291556</td>\n",
       "      <td>-0.285089</td>\n",
       "      <td>0.103484</td>\n",
       "      <td>0.332753</td>\n",
       "    </tr>\n",
       "    <tr>\n",
       "      <td>PURCHASES_TRX</td>\n",
       "      <td>0.355503</td>\n",
       "      <td>0.106625</td>\n",
       "      <td>-0.102743</td>\n",
       "      <td>-0.054296</td>\n",
       "      <td>0.104971</td>\n",
       "    </tr>\n",
       "    <tr>\n",
       "      <td>Monthly_avg_purchase</td>\n",
       "      <td>0.345992</td>\n",
       "      <td>0.141635</td>\n",
       "      <td>0.023986</td>\n",
       "      <td>-0.079373</td>\n",
       "      <td>0.194147</td>\n",
       "    </tr>\n",
       "    <tr>\n",
       "      <td>Monthly_cash_advance</td>\n",
       "      <td>-0.243861</td>\n",
       "      <td>0.264318</td>\n",
       "      <td>-0.257427</td>\n",
       "      <td>0.135292</td>\n",
       "      <td>0.268026</td>\n",
       "    </tr>\n",
       "    <tr>\n",
       "      <td>LIMIT_USAGE</td>\n",
       "      <td>-0.146302</td>\n",
       "      <td>0.235710</td>\n",
       "      <td>-0.251278</td>\n",
       "      <td>-0.431682</td>\n",
       "      <td>-0.181885</td>\n",
       "    </tr>\n",
       "    <tr>\n",
       "      <td>PAY_MINPAY</td>\n",
       "      <td>0.119632</td>\n",
       "      <td>0.021328</td>\n",
       "      <td>0.136357</td>\n",
       "      <td>0.591561</td>\n",
       "      <td>0.215446</td>\n",
       "    </tr>\n",
       "    <tr>\n",
       "      <td>both_oneoff_installment</td>\n",
       "      <td>0.241392</td>\n",
       "      <td>0.273676</td>\n",
       "      <td>-0.131935</td>\n",
       "      <td>0.254710</td>\n",
       "      <td>-0.340849</td>\n",
       "    </tr>\n",
       "    <tr>\n",
       "      <td>installment</td>\n",
       "      <td>0.082209</td>\n",
       "      <td>-0.443375</td>\n",
       "      <td>-0.208683</td>\n",
       "      <td>-0.190829</td>\n",
       "      <td>0.353821</td>\n",
       "    </tr>\n",
       "    <tr>\n",
       "      <td>none</td>\n",
       "      <td>-0.310283</td>\n",
       "      <td>-0.005214</td>\n",
       "      <td>-0.096911</td>\n",
       "      <td>0.245104</td>\n",
       "      <td>-0.342222</td>\n",
       "    </tr>\n",
       "    <tr>\n",
       "      <td>oneoff</td>\n",
       "      <td>-0.042138</td>\n",
       "      <td>0.167737</td>\n",
       "      <td>0.472749</td>\n",
       "      <td>-0.338549</td>\n",
       "      <td>0.362585</td>\n",
       "    </tr>\n",
       "  </tbody>\n",
       "</table>\n",
       "</div>"
      ],
      "text/plain": [
       "                                      PC_0      PC_1      PC_2      PC_3  \\\n",
       "BALANCE_FREQUENCY                 0.029707  0.240072 -0.263140 -0.353549   \n",
       "ONEOFF_PURCHASES                  0.214107  0.406078  0.239165  0.001520   \n",
       "INSTALLMENTS_PURCHASES            0.312051 -0.098404 -0.315625  0.087983   \n",
       "PURCHASES_FREQUENCY               0.345823  0.015813 -0.162843 -0.074617   \n",
       "ONEOFF_PURCHASES_FREQUENCY        0.214702  0.362208  0.163222  0.036303   \n",
       "PURCHASES_INSTALLMENTS_FREQUENCY  0.295451 -0.112002 -0.330029  0.023502   \n",
       "CASH_ADVANCE_FREQUENCY           -0.214336  0.286074 -0.278586  0.096353   \n",
       "CASH_ADVANCE_TRX                 -0.229393  0.291556 -0.285089  0.103484   \n",
       "PURCHASES_TRX                     0.355503  0.106625 -0.102743 -0.054296   \n",
       "Monthly_avg_purchase              0.345992  0.141635  0.023986 -0.079373   \n",
       "Monthly_cash_advance             -0.243861  0.264318 -0.257427  0.135292   \n",
       "LIMIT_USAGE                      -0.146302  0.235710 -0.251278 -0.431682   \n",
       "PAY_MINPAY                        0.119632  0.021328  0.136357  0.591561   \n",
       "both_oneoff_installment           0.241392  0.273676 -0.131935  0.254710   \n",
       "installment                       0.082209 -0.443375 -0.208683 -0.190829   \n",
       "none                             -0.310283 -0.005214 -0.096911  0.245104   \n",
       "oneoff                           -0.042138  0.167737  0.472749 -0.338549   \n",
       "\n",
       "                                      PC_4  \n",
       "BALANCE_FREQUENCY                -0.228681  \n",
       "ONEOFF_PURCHASES                 -0.023197  \n",
       "INSTALLMENTS_PURCHASES           -0.002181  \n",
       "PURCHASES_FREQUENCY               0.115948  \n",
       "ONEOFF_PURCHASES_FREQUENCY       -0.051279  \n",
       "PURCHASES_INSTALLMENTS_FREQUENCY  0.025871  \n",
       "CASH_ADVANCE_FREQUENCY            0.360132  \n",
       "CASH_ADVANCE_TRX                  0.332753  \n",
       "PURCHASES_TRX                     0.104971  \n",
       "Monthly_avg_purchase              0.194147  \n",
       "Monthly_cash_advance              0.268026  \n",
       "LIMIT_USAGE                      -0.181885  \n",
       "PAY_MINPAY                        0.215446  \n",
       "both_oneoff_installment          -0.340849  \n",
       "installment                       0.353821  \n",
       "none                             -0.342222  \n",
       "oneoff                            0.362585  "
      ]
     },
     "execution_count": 57,
     "metadata": {},
     "output_type": "execute_result"
    }
   ],
   "source": [
    "pd.DataFrame(credit_pca_final.components_.T,columns=['PC_' + str(i) for i in range(5)],index=col_list)"
   ]
  },
  {
   "cell_type": "code",
   "execution_count": 58,
   "metadata": {},
   "outputs": [
    {
     "data": {
      "text/plain": [
       "PC_0    0.402058\n",
       "PC_1    0.180586\n",
       "PC_2    0.147294\n",
       "PC_3    0.081606\n",
       "PC_4    0.065511\n",
       "dtype: float64"
      ]
     },
     "execution_count": 58,
     "metadata": {},
     "output_type": "execute_result"
    }
   ],
   "source": [
    "pd.Series(credit_pca_final.explained_variance_ratio_,index = ['PC_'+ str(i) for i in range(5)])"
   ]
  },
  {
   "cell_type": "code",
   "execution_count": 59,
   "metadata": {},
   "outputs": [
    {
     "data": {
      "text/plain": [
       "sklearn.decomposition.pca.PCA"
      ]
     },
     "execution_count": 59,
     "metadata": {},
     "output_type": "execute_result"
    }
   ],
   "source": [
    "type(credit_scaled_pca)"
   ]
  },
  {
   "cell_type": "markdown",
   "metadata": {},
   "source": [
    "##  Clustering Algorithm - K Means Clustering\n",
    "\n",
    "Now Our data is ready after we have done the feature selection and scaling of the data.\n",
    "\n",
    "Before we start the KMeans we need find the optimal cluster value.for the we will be elbow method to find the optimal number of cluster."
   ]
  },
  {
   "cell_type": "code",
   "execution_count": 60,
   "metadata": {},
   "outputs": [],
   "source": [
    "from sklearn.cluster import KMeans\n",
    "from sklearn.metrics import silhouette_score\n",
    "cluster_range = range(3,10)\n",
    "cluster_error = []\n",
    "\n",
    "for num in cluster_range:\n",
    "    cluster = KMeans(num,random_state=222)\n",
    "    cluster.fit(credit_reduced_feature)\n",
    "    cluster_error.append(cluster.inertia_)"
   ]
  },
  {
   "cell_type": "code",
   "execution_count": 61,
   "metadata": {},
   "outputs": [
    {
     "data": {
      "text/html": [
       "<div>\n",
       "<style scoped>\n",
       "    .dataframe tbody tr th:only-of-type {\n",
       "        vertical-align: middle;\n",
       "    }\n",
       "\n",
       "    .dataframe tbody tr th {\n",
       "        vertical-align: top;\n",
       "    }\n",
       "\n",
       "    .dataframe thead th {\n",
       "        text-align: right;\n",
       "    }\n",
       "</style>\n",
       "<table border=\"1\" class=\"dataframe\">\n",
       "  <thead>\n",
       "    <tr style=\"text-align: right;\">\n",
       "      <th></th>\n",
       "      <th>num_cluster</th>\n",
       "      <th>cluster_error</th>\n",
       "    </tr>\n",
       "  </thead>\n",
       "  <tbody>\n",
       "    <tr>\n",
       "      <td>0</td>\n",
       "      <td>3</td>\n",
       "      <td>64500.629290</td>\n",
       "    </tr>\n",
       "    <tr>\n",
       "      <td>1</td>\n",
       "      <td>4</td>\n",
       "      <td>43508.381436</td>\n",
       "    </tr>\n",
       "    <tr>\n",
       "      <td>2</td>\n",
       "      <td>5</td>\n",
       "      <td>36826.483543</td>\n",
       "    </tr>\n",
       "    <tr>\n",
       "      <td>3</td>\n",
       "      <td>6</td>\n",
       "      <td>32005.216927</td>\n",
       "    </tr>\n",
       "    <tr>\n",
       "      <td>4</td>\n",
       "      <td>7</td>\n",
       "      <td>28621.226760</td>\n",
       "    </tr>\n",
       "    <tr>\n",
       "      <td>5</td>\n",
       "      <td>8</td>\n",
       "      <td>26104.951136</td>\n",
       "    </tr>\n",
       "    <tr>\n",
       "      <td>6</td>\n",
       "      <td>9</td>\n",
       "      <td>24288.291191</td>\n",
       "    </tr>\n",
       "  </tbody>\n",
       "</table>\n",
       "</div>"
      ],
      "text/plain": [
       "   num_cluster  cluster_error\n",
       "0            3   64500.629290\n",
       "1            4   43508.381436\n",
       "2            5   36826.483543\n",
       "3            6   32005.216927\n",
       "4            7   28621.226760\n",
       "5            8   26104.951136\n",
       "6            9   24288.291191"
      ]
     },
     "execution_count": 61,
     "metadata": {},
     "output_type": "execute_result"
    }
   ],
   "source": [
    "cluster_df = pd.DataFrame({'num_cluster':cluster_range , 'cluster_error':cluster_error})\n",
    "cluster_df"
   ]
  },
  {
   "cell_type": "code",
   "execution_count": 62,
   "metadata": {},
   "outputs": [
    {
     "data": {
      "text/plain": [
       "[<matplotlib.lines.Line2D at 0x9ff5390>]"
      ]
     },
     "execution_count": 62,
     "metadata": {},
     "output_type": "execute_result"
    },
    {
     "data": {
      "image/png": "[encoded data removed]",
      "text/plain": [
       "<Figure size 720x864 with 1 Axes>"
      ]
     },
     "metadata": {
      "needs_background": "light"
     },
     "output_type": "display_data"
    }
   ],
   "source": [
    "plt.figure(figsize=(10,12))\n",
    "plt.plot(cluster_df.num_cluster,cluster_df.cluster_error,marker = \"o\")"
   ]
  },
  {
   "cell_type": "markdown",
   "metadata": {},
   "source": [
    "From the graph, you can see the optimal k is 4, where the curve is starting to have a diminishing return. Once you have our optimal k, you run the algorithm with k equals to 4 and evaluate the clusters."
   ]
  },
  {
   "cell_type": "code",
   "execution_count": 63,
   "metadata": {},
   "outputs": [
    {
     "data": {
      "text/plain": [
       "KMeans(algorithm='auto', copy_x=True, init='k-means++', max_iter=300,\n",
       "       n_clusters=4, n_init=10, n_jobs=None, precompute_distances='auto',\n",
       "       random_state=123, tol=0.0001, verbose=0)"
      ]
     },
     "execution_count": 63,
     "metadata": {},
     "output_type": "execute_result"
    }
   ],
   "source": [
    "from sklearn.cluster import KMeans\n",
    "km_4=KMeans(n_clusters=4,random_state=123)\n",
    "km_4.fit(credit_reduced_feature)"
   ]
  },
  {
   "cell_type": "code",
   "execution_count": 64,
   "metadata": {},
   "outputs": [
    {
     "data": {
      "text/plain": [
       "2    2758\n",
       "3    2228\n",
       "1    2090\n",
       "0    1874\n",
       "dtype: int64"
      ]
     },
     "execution_count": 64,
     "metadata": {},
     "output_type": "execute_result"
    }
   ],
   "source": [
    "pd.Series(km_4.labels_).value_counts()"
   ]
  },
  {
   "cell_type": "code",
   "execution_count": 65,
   "metadata": {},
   "outputs": [
    {
     "data": {
      "text/plain": [
       "<matplotlib.collections.PathCollection at 0xb12d170>"
      ]
     },
     "execution_count": 65,
     "metadata": {},
     "output_type": "execute_result"
    },
    {
     "data": {
      "image/png": "[encoded data removed]",
      "text/plain": [
       "<Figure size 504x504 with 1 Axes>"
      ]
     },
     "metadata": {
      "needs_background": "light"
     },
     "output_type": "display_data"
    }
   ],
   "source": [
    "color_map={0:'r',1:'b',2:'g',3:'y'}\n",
    "label_color=[color_map[l] for l in km_4.labels_]\n",
    "plt.figure(figsize=(7,7))\n",
    "plt.scatter(credit_reduced_feature[:,0],credit_reduced_feature[:,1],c=label_color,cmap='Spectral',alpha=0.5)"
   ]
  },
  {
   "cell_type": "markdown",
   "metadata": {},
   "source": [
    "From the scatter plot we can see that we have 4 cluster here and we each data point classified into different cluster.\n",
    "\n",
    "To get a clear idea of how observation are classified into different cluster we will using the original data without the varibale which are used to create new KPI's and then adding the cluster classification which we get from the kMeans algorithm and then we will be grouping the data by cluster and we will be summarizing the other variable by mean and checking how well all the observation are classified."
   ]
  },
  {
   "cell_type": "code",
   "execution_count": 66,
   "metadata": {},
   "outputs": [],
   "source": [
    "credit_pair_plot = pd.DataFrame(credit_reduced_feature,columns=['PC_'+str(i) for i in range(5)])"
   ]
  },
  {
   "cell_type": "code",
   "execution_count": 67,
   "metadata": {},
   "outputs": [],
   "source": [
    "credit_pair_plot['Cluster'] = km_4.labels_"
   ]
  },
  {
   "cell_type": "code",
   "execution_count": 68,
   "metadata": {},
   "outputs": [],
   "source": [
    "# Key performace variable selection .here i am dropping varibales which are used in derving new KPI\n",
    "col_kpi=['CASH_ADVANCE_TRX', 'PURCHASES_TRX', 'Monthly_avg_purchase',\n",
    "       'Monthly_cash_advance', 'LIMIT_USAGE', 'PAY_MINPAY',\n",
    "       'both_oneoff_installment', 'installment', 'none', 'oneoff','CREDIT_LIMIT']"
   ]
  },
  {
   "cell_type": "code",
   "execution_count": 69,
   "metadata": {},
   "outputs": [
    {
     "data": {
      "text/html": [
       "<div>\n",
       "<style scoped>\n",
       "    .dataframe tbody tr th:only-of-type {\n",
       "        vertical-align: middle;\n",
       "    }\n",
       "\n",
       "    .dataframe tbody tr th {\n",
       "        vertical-align: top;\n",
       "    }\n",
       "\n",
       "    .dataframe thead th {\n",
       "        text-align: right;\n",
       "    }\n",
       "</style>\n",
       "<table border=\"1\" class=\"dataframe\">\n",
       "  <thead>\n",
       "    <tr style=\"text-align: right;\">\n",
       "      <th></th>\n",
       "      <th>BALANCE_FREQUENCY</th>\n",
       "      <th>ONEOFF_PURCHASES</th>\n",
       "      <th>INSTALLMENTS_PURCHASES</th>\n",
       "      <th>PURCHASES_FREQUENCY</th>\n",
       "      <th>ONEOFF_PURCHASES_FREQUENCY</th>\n",
       "      <th>PURCHASES_INSTALLMENTS_FREQUENCY</th>\n",
       "      <th>CASH_ADVANCE_FREQUENCY</th>\n",
       "      <th>CASH_ADVANCE_TRX</th>\n",
       "      <th>PURCHASES_TRX</th>\n",
       "      <th>Monthly_avg_purchase</th>\n",
       "      <th>Monthly_cash_advance</th>\n",
       "      <th>LIMIT_USAGE</th>\n",
       "      <th>PAY_MINPAY</th>\n",
       "    </tr>\n",
       "  </thead>\n",
       "  <tbody>\n",
       "    <tr>\n",
       "      <td>count</td>\n",
       "      <td>8950.000000</td>\n",
       "      <td>8950.000000</td>\n",
       "      <td>8950.000000</td>\n",
       "      <td>8950.000000</td>\n",
       "      <td>8950.000000</td>\n",
       "      <td>8950.000000</td>\n",
       "      <td>8950.000000</td>\n",
       "      <td>8950.000000</td>\n",
       "      <td>8950.000000</td>\n",
       "      <td>8950.000000</td>\n",
       "      <td>8950.000000</td>\n",
       "      <td>8950.000000</td>\n",
       "      <td>8950.000000</td>\n",
       "    </tr>\n",
       "    <tr>\n",
       "      <td>mean</td>\n",
       "      <td>0.619940</td>\n",
       "      <td>3.204274</td>\n",
       "      <td>3.352403</td>\n",
       "      <td>0.361268</td>\n",
       "      <td>0.158699</td>\n",
       "      <td>0.270072</td>\n",
       "      <td>0.113512</td>\n",
       "      <td>0.817570</td>\n",
       "      <td>1.894731</td>\n",
       "      <td>3.050877</td>\n",
       "      <td>2.163970</td>\n",
       "      <td>0.296081</td>\n",
       "      <td>1.357600</td>\n",
       "    </tr>\n",
       "    <tr>\n",
       "      <td>std</td>\n",
       "      <td>0.148590</td>\n",
       "      <td>3.246365</td>\n",
       "      <td>3.082973</td>\n",
       "      <td>0.277317</td>\n",
       "      <td>0.216672</td>\n",
       "      <td>0.281852</td>\n",
       "      <td>0.156716</td>\n",
       "      <td>1.009316</td>\n",
       "      <td>1.373856</td>\n",
       "      <td>2.002823</td>\n",
       "      <td>2.429741</td>\n",
       "      <td>0.250303</td>\n",
       "      <td>0.940149</td>\n",
       "    </tr>\n",
       "    <tr>\n",
       "      <td>min</td>\n",
       "      <td>0.000000</td>\n",
       "      <td>0.000000</td>\n",
       "      <td>0.000000</td>\n",
       "      <td>0.000000</td>\n",
       "      <td>0.000000</td>\n",
       "      <td>0.000000</td>\n",
       "      <td>0.000000</td>\n",
       "      <td>0.000000</td>\n",
       "      <td>0.000000</td>\n",
       "      <td>0.000000</td>\n",
       "      <td>0.000000</td>\n",
       "      <td>0.000000</td>\n",
       "      <td>0.000000</td>\n",
       "    </tr>\n",
       "    <tr>\n",
       "      <td>25%</td>\n",
       "      <td>0.635989</td>\n",
       "      <td>0.000000</td>\n",
       "      <td>0.000000</td>\n",
       "      <td>0.080042</td>\n",
       "      <td>0.000000</td>\n",
       "      <td>0.000000</td>\n",
       "      <td>0.000000</td>\n",
       "      <td>0.000000</td>\n",
       "      <td>0.693147</td>\n",
       "      <td>1.481458</td>\n",
       "      <td>0.000000</td>\n",
       "      <td>0.040656</td>\n",
       "      <td>0.648817</td>\n",
       "    </tr>\n",
       "    <tr>\n",
       "      <td>50%</td>\n",
       "      <td>0.693147</td>\n",
       "      <td>3.663562</td>\n",
       "      <td>4.499810</td>\n",
       "      <td>0.405465</td>\n",
       "      <td>0.080042</td>\n",
       "      <td>0.154151</td>\n",
       "      <td>0.000000</td>\n",
       "      <td>0.000000</td>\n",
       "      <td>2.079442</td>\n",
       "      <td>3.494587</td>\n",
       "      <td>0.000000</td>\n",
       "      <td>0.264455</td>\n",
       "      <td>1.109459</td>\n",
       "    </tr>\n",
       "    <tr>\n",
       "      <td>75%</td>\n",
       "      <td>0.693147</td>\n",
       "      <td>6.360274</td>\n",
       "      <td>6.151961</td>\n",
       "      <td>0.650588</td>\n",
       "      <td>0.262364</td>\n",
       "      <td>0.559616</td>\n",
       "      <td>0.200671</td>\n",
       "      <td>1.609438</td>\n",
       "      <td>2.890372</td>\n",
       "      <td>4.587295</td>\n",
       "      <td>4.606022</td>\n",
       "      <td>0.540911</td>\n",
       "      <td>1.953415</td>\n",
       "    </tr>\n",
       "    <tr>\n",
       "      <td>max</td>\n",
       "      <td>0.693147</td>\n",
       "      <td>10.615512</td>\n",
       "      <td>10.021315</td>\n",
       "      <td>0.693147</td>\n",
       "      <td>0.693147</td>\n",
       "      <td>0.693147</td>\n",
       "      <td>0.916291</td>\n",
       "      <td>4.820282</td>\n",
       "      <td>5.883322</td>\n",
       "      <td>8.315721</td>\n",
       "      <td>8.276166</td>\n",
       "      <td>2.827902</td>\n",
       "      <td>8.830767</td>\n",
       "    </tr>\n",
       "  </tbody>\n",
       "</table>\n",
       "</div>"
      ],
      "text/plain": [
       "       BALANCE_FREQUENCY  ONEOFF_PURCHASES  INSTALLMENTS_PURCHASES  \\\n",
       "count        8950.000000       8950.000000             8950.000000   \n",
       "mean            0.619940          3.204274                3.352403   \n",
       "std             0.148590          3.246365                3.082973   \n",
       "min             0.000000          0.000000                0.000000   \n",
       "25%             0.635989          0.000000                0.000000   \n",
       "50%             0.693147          3.663562                4.499810   \n",
       "75%             0.693147          6.360274                6.151961   \n",
       "max             0.693147         10.615512               10.021315   \n",
       "\n",
       "       PURCHASES_FREQUENCY  ONEOFF_PURCHASES_FREQUENCY  \\\n",
       "count          8950.000000                 8950.000000   \n",
       "mean              0.361268                    0.158699   \n",
       "std               0.277317                    0.216672   \n",
       "min               0.000000                    0.000000   \n",
       "25%               0.080042                    0.000000   \n",
       "50%               0.405465                    0.080042   \n",
       "75%               0.650588                    0.262364   \n",
       "max               0.693147                    0.693147   \n",
       "\n",
       "       PURCHASES_INSTALLMENTS_FREQUENCY  CASH_ADVANCE_FREQUENCY  \\\n",
       "count                       8950.000000             8950.000000   \n",
       "mean                           0.270072                0.113512   \n",
       "std                            0.281852                0.156716   \n",
       "min                            0.000000                0.000000   \n",
       "25%                            0.000000                0.000000   \n",
       "50%                            0.154151                0.000000   \n",
       "75%                            0.559616                0.200671   \n",
       "max                            0.693147                0.916291   \n",
       "\n",
       "       CASH_ADVANCE_TRX  PURCHASES_TRX  Monthly_avg_purchase  \\\n",
       "count       8950.000000    8950.000000           8950.000000   \n",
       "mean           0.817570       1.894731              3.050877   \n",
       "std            1.009316       1.373856              2.002823   \n",
       "min            0.000000       0.000000              0.000000   \n",
       "25%            0.000000       0.693147              1.481458   \n",
       "50%            0.000000       2.079442              3.494587   \n",
       "75%            1.609438       2.890372              4.587295   \n",
       "max            4.820282       5.883322              8.315721   \n",
       "\n",
       "       Monthly_cash_advance  LIMIT_USAGE   PAY_MINPAY  \n",
       "count           8950.000000  8950.000000  8950.000000  \n",
       "mean               2.163970     0.296081     1.357600  \n",
       "std                2.429741     0.250303     0.940149  \n",
       "min                0.000000     0.000000     0.000000  \n",
       "25%                0.000000     0.040656     0.648817  \n",
       "50%                0.000000     0.264455     1.109459  \n",
       "75%                4.606022     0.540911     1.953415  \n",
       "max                8.276166     2.827902     8.830767  "
      ]
     },
     "execution_count": 69,
     "metadata": {},
     "output_type": "execute_result"
    }
   ],
   "source": [
    "credit_transform_selected.describe()"
   ]
  },
  {
   "cell_type": "code",
   "execution_count": 70,
   "metadata": {},
   "outputs": [],
   "source": [
    "cluster_4_df = pd.concat([credit_original[col_kpi],pd.Series(km_4.labels_,name='Cluster_4')],axis=1)"
   ]
  },
  {
   "cell_type": "code",
   "execution_count": 71,
   "metadata": {},
   "outputs": [
    {
     "data": {
      "text/html": [
       "<div>\n",
       "<style scoped>\n",
       "    .dataframe tbody tr th:only-of-type {\n",
       "        vertical-align: middle;\n",
       "    }\n",
       "\n",
       "    .dataframe tbody tr th {\n",
       "        vertical-align: top;\n",
       "    }\n",
       "\n",
       "    .dataframe thead th {\n",
       "        text-align: right;\n",
       "    }\n",
       "</style>\n",
       "<table border=\"1\" class=\"dataframe\">\n",
       "  <thead>\n",
       "    <tr style=\"text-align: right;\">\n",
       "      <th></th>\n",
       "      <th>CASH_ADVANCE_TRX</th>\n",
       "      <th>PURCHASES_TRX</th>\n",
       "      <th>Monthly_avg_purchase</th>\n",
       "      <th>Monthly_cash_advance</th>\n",
       "      <th>LIMIT_USAGE</th>\n",
       "      <th>PAY_MINPAY</th>\n",
       "      <th>both_oneoff_installment</th>\n",
       "      <th>installment</th>\n",
       "      <th>none</th>\n",
       "      <th>oneoff</th>\n",
       "      <th>CREDIT_LIMIT</th>\n",
       "      <th>Cluster_4</th>\n",
       "    </tr>\n",
       "  </thead>\n",
       "  <tbody>\n",
       "    <tr>\n",
       "      <td>0</td>\n",
       "      <td>0</td>\n",
       "      <td>2</td>\n",
       "      <td>7.950000</td>\n",
       "      <td>0.000000</td>\n",
       "      <td>0.040901</td>\n",
       "      <td>1.446508</td>\n",
       "      <td>0</td>\n",
       "      <td>1</td>\n",
       "      <td>0</td>\n",
       "      <td>0</td>\n",
       "      <td>1000.0</td>\n",
       "      <td>3</td>\n",
       "    </tr>\n",
       "    <tr>\n",
       "      <td>1</td>\n",
       "      <td>4</td>\n",
       "      <td>0</td>\n",
       "      <td>0.000000</td>\n",
       "      <td>536.912124</td>\n",
       "      <td>0.457495</td>\n",
       "      <td>3.826241</td>\n",
       "      <td>0</td>\n",
       "      <td>0</td>\n",
       "      <td>1</td>\n",
       "      <td>0</td>\n",
       "      <td>7000.0</td>\n",
       "      <td>1</td>\n",
       "    </tr>\n",
       "    <tr>\n",
       "      <td>2</td>\n",
       "      <td>0</td>\n",
       "      <td>12</td>\n",
       "      <td>64.430833</td>\n",
       "      <td>0.000000</td>\n",
       "      <td>0.332687</td>\n",
       "      <td>0.991682</td>\n",
       "      <td>0</td>\n",
       "      <td>0</td>\n",
       "      <td>0</td>\n",
       "      <td>1</td>\n",
       "      <td>7500.0</td>\n",
       "      <td>0</td>\n",
       "    </tr>\n",
       "    <tr>\n",
       "      <td>3</td>\n",
       "      <td>1</td>\n",
       "      <td>1</td>\n",
       "      <td>124.916667</td>\n",
       "      <td>17.149001</td>\n",
       "      <td>0.222223</td>\n",
       "      <td>0.000000</td>\n",
       "      <td>0</td>\n",
       "      <td>0</td>\n",
       "      <td>0</td>\n",
       "      <td>1</td>\n",
       "      <td>7500.0</td>\n",
       "      <td>0</td>\n",
       "    </tr>\n",
       "    <tr>\n",
       "      <td>4</td>\n",
       "      <td>0</td>\n",
       "      <td>1</td>\n",
       "      <td>1.333333</td>\n",
       "      <td>0.000000</td>\n",
       "      <td>0.681429</td>\n",
       "      <td>2.771075</td>\n",
       "      <td>0</td>\n",
       "      <td>0</td>\n",
       "      <td>0</td>\n",
       "      <td>1</td>\n",
       "      <td>1200.0</td>\n",
       "      <td>0</td>\n",
       "    </tr>\n",
       "  </tbody>\n",
       "</table>\n",
       "</div>"
      ],
      "text/plain": [
       "   CASH_ADVANCE_TRX  PURCHASES_TRX  Monthly_avg_purchase  \\\n",
       "0                 0              2              7.950000   \n",
       "1                 4              0              0.000000   \n",
       "2                 0             12             64.430833   \n",
       "3                 1              1            124.916667   \n",
       "4                 0              1              1.333333   \n",
       "\n",
       "   Monthly_cash_advance  LIMIT_USAGE  PAY_MINPAY  both_oneoff_installment  \\\n",
       "0              0.000000     0.040901    1.446508                        0   \n",
       "1            536.912124     0.457495    3.826241                        0   \n",
       "2              0.000000     0.332687    0.991682                        0   \n",
       "3             17.149001     0.222223    0.000000                        0   \n",
       "4              0.000000     0.681429    2.771075                        0   \n",
       "\n",
       "   installment  none  oneoff  CREDIT_LIMIT  Cluster_4  \n",
       "0            1     0       0        1000.0          3  \n",
       "1            0     1       0        7000.0          1  \n",
       "2            0     0       1        7500.0          0  \n",
       "3            0     0       1        7500.0          0  \n",
       "4            0     0       1        1200.0          0  "
      ]
     },
     "execution_count": 71,
     "metadata": {},
     "output_type": "execute_result"
    }
   ],
   "source": [
    "cluster_4_df.head()"
   ]
  },
  {
   "cell_type": "code",
   "execution_count": 72,
   "metadata": {},
   "outputs": [
    {
     "data": {
      "text/html": [
       "<div>\n",
       "<style scoped>\n",
       "    .dataframe tbody tr th:only-of-type {\n",
       "        vertical-align: middle;\n",
       "    }\n",
       "\n",
       "    .dataframe tbody tr th {\n",
       "        vertical-align: top;\n",
       "    }\n",
       "\n",
       "    .dataframe thead th {\n",
       "        text-align: right;\n",
       "    }\n",
       "</style>\n",
       "<table border=\"1\" class=\"dataframe\">\n",
       "  <thead>\n",
       "    <tr style=\"text-align: right;\">\n",
       "      <th>Cluster_4</th>\n",
       "      <th>0</th>\n",
       "      <th>1</th>\n",
       "      <th>2</th>\n",
       "      <th>3</th>\n",
       "    </tr>\n",
       "  </thead>\n",
       "  <tbody>\n",
       "    <tr>\n",
       "      <td>CASH_ADVANCE_TRX</td>\n",
       "      <td>2.864995</td>\n",
       "      <td>6.552632</td>\n",
       "      <td>2.807107</td>\n",
       "      <td>1.019300</td>\n",
       "    </tr>\n",
       "    <tr>\n",
       "      <td>PURCHASES_TRX</td>\n",
       "      <td>7.118997</td>\n",
       "      <td>0.045933</td>\n",
       "      <td>33.125453</td>\n",
       "      <td>12.053860</td>\n",
       "    </tr>\n",
       "    <tr>\n",
       "      <td>Monthly_avg_purchase</td>\n",
       "      <td>69.758276</td>\n",
       "      <td>0.159337</td>\n",
       "      <td>193.696083</td>\n",
       "      <td>47.573598</td>\n",
       "    </tr>\n",
       "    <tr>\n",
       "      <td>Monthly_cash_advance</td>\n",
       "      <td>77.843485</td>\n",
       "      <td>186.298043</td>\n",
       "      <td>67.620006</td>\n",
       "      <td>33.489846</td>\n",
       "    </tr>\n",
       "    <tr>\n",
       "      <td>LIMIT_USAGE</td>\n",
       "      <td>0.378727</td>\n",
       "      <td>0.576217</td>\n",
       "      <td>0.354487</td>\n",
       "      <td>0.264275</td>\n",
       "    </tr>\n",
       "    <tr>\n",
       "      <td>PAY_MINPAY</td>\n",
       "      <td>5.561421</td>\n",
       "      <td>9.927979</td>\n",
       "      <td>7.268605</td>\n",
       "      <td>13.402660</td>\n",
       "    </tr>\n",
       "    <tr>\n",
       "      <td>both_oneoff_installment</td>\n",
       "      <td>0.003735</td>\n",
       "      <td>0.002392</td>\n",
       "      <td>1.000000</td>\n",
       "      <td>0.001795</td>\n",
       "    </tr>\n",
       "    <tr>\n",
       "      <td>installment</td>\n",
       "      <td>0.000000</td>\n",
       "      <td>0.017225</td>\n",
       "      <td>0.000000</td>\n",
       "      <td>0.998205</td>\n",
       "    </tr>\n",
       "    <tr>\n",
       "      <td>none</td>\n",
       "      <td>0.000000</td>\n",
       "      <td>0.977033</td>\n",
       "      <td>0.000000</td>\n",
       "      <td>0.000000</td>\n",
       "    </tr>\n",
       "    <tr>\n",
       "      <td>oneoff</td>\n",
       "      <td>0.996265</td>\n",
       "      <td>0.003349</td>\n",
       "      <td>0.000000</td>\n",
       "      <td>0.000000</td>\n",
       "    </tr>\n",
       "    <tr>\n",
       "      <td>CREDIT_LIMIT</td>\n",
       "      <td>4512.905630</td>\n",
       "      <td>4055.582137</td>\n",
       "      <td>5750.015565</td>\n",
       "      <td>3335.697210</td>\n",
       "    </tr>\n",
       "  </tbody>\n",
       "</table>\n",
       "</div>"
      ],
      "text/plain": [
       "Cluster_4                          0            1            2            3\n",
       "CASH_ADVANCE_TRX            2.864995     6.552632     2.807107     1.019300\n",
       "PURCHASES_TRX               7.118997     0.045933    33.125453    12.053860\n",
       "Monthly_avg_purchase       69.758276     0.159337   193.696083    47.573598\n",
       "Monthly_cash_advance       77.843485   186.298043    67.620006    33.489846\n",
       "LIMIT_USAGE                 0.378727     0.576217     0.354487     0.264275\n",
       "PAY_MINPAY                  5.561421     9.927979     7.268605    13.402660\n",
       "both_oneoff_installment     0.003735     0.002392     1.000000     0.001795\n",
       "installment                 0.000000     0.017225     0.000000     0.998205\n",
       "none                        0.000000     0.977033     0.000000     0.000000\n",
       "oneoff                      0.996265     0.003349     0.000000     0.000000\n",
       "CREDIT_LIMIT             4512.905630  4055.582137  5750.015565  3335.697210"
      ]
     },
     "execution_count": 72,
     "metadata": {},
     "output_type": "execute_result"
    }
   ],
   "source": [
    "cluster_4 = cluster_4_df.groupby('Cluster_4').apply(lambda x: x[col_kpi].mean()).T\n",
    "cluster_4"
   ]
  },
  {
   "cell_type": "code",
   "execution_count": 73,
   "metadata": {},
   "outputs": [
    {
     "data": {
      "text/plain": [
       "<matplotlib.legend.Legend at 0x9f34110>"
      ]
     },
     "execution_count": 73,
     "metadata": {},
     "output_type": "execute_result"
    },
    {
     "data": {
      "image/png": "[encoded data removed]",
      "text/plain": [
       "<Figure size 1080x720 with 1 Axes>"
      ]
     },
     "metadata": {
      "needs_background": "light"
     },
     "output_type": "display_data"
    }
   ],
   "source": [
    "fig,ax=plt.subplots(figsize=(15,10))\n",
    "index=np.arange(len(cluster_4.columns))\n",
    "\n",
    "cash_advance=np.log(cluster_4.loc['Monthly_cash_advance',:].values)\n",
    "credit_score=(cluster_4.loc['LIMIT_USAGE',:].values)\n",
    "purchase= np.log(cluster_4.loc['Monthly_avg_purchase',:].values)\n",
    "payment=cluster_4.loc['PAY_MINPAY',:].values\n",
    "installment=cluster_4.loc['installment',:].values\n",
    "one_off=cluster_4.loc['oneoff',:].values\n",
    "\n",
    "\n",
    "bar_width=.10\n",
    "b1=plt.bar(index,cash_advance,color='b',label='Monthly cash advance',width=bar_width)\n",
    "b2=plt.bar(index+bar_width,credit_score,color='m',label='Credit_score',width=bar_width)\n",
    "b3=plt.bar(index+2*bar_width,purchase,color='k',label='Avg purchase',width=bar_width)\n",
    "b4=plt.bar(index+3*bar_width,payment,color='c',label='Payment-minpayment ratio',width=bar_width)\n",
    "b5=plt.bar(index+4*bar_width,installment,color='r',label='installment',width=bar_width)\n",
    "b6=plt.bar(index+5*bar_width,one_off,color='g',label='One_off purchase',width=bar_width)\n",
    "\n",
    "plt.xlabel(\"Cluster\")\n",
    "plt.title(\"Insights\")\n",
    "plt.xticks(index + bar_width, ('Cl-0', 'Cl-1', 'Cl-2', 'Cl-3'))\n",
    "plt.legend()"
   ]
  },
  {
   "cell_type": "code",
   "execution_count": 74,
   "metadata": {},
   "outputs": [
    {
     "data": {
      "text/plain": [
       "Cluster_4   \n",
       "0          0    1874\n",
       "1          1    2090\n",
       "2          2    2758\n",
       "3          3    2228\n",
       "Name: Cluster_4, dtype: int64"
      ]
     },
     "execution_count": 74,
     "metadata": {},
     "output_type": "execute_result"
    }
   ],
   "source": [
    "cluster_count = cluster_4_df.groupby('Cluster_4').apply(lambda x: x['Cluster_4'].value_counts())\n",
    "cluster_count"
   ]
  },
  {
   "cell_type": "code",
   "execution_count": 75,
   "metadata": {},
   "outputs": [
    {
     "name": "stdout",
     "output_type": "stream",
     "text": [
      "   Size  Percentage\n",
      "0  1874   20.938547\n",
      "1  2090   23.351955\n",
      "2  2758   30.815642\n",
      "3  2228   24.893855\n"
     ]
    }
   ],
   "source": [
    "cluster_percentage = pd.Series((cluster_count.values.astype(float) / cluster_4_df.shape[0])*100,name = 'Percentage')\n",
    "print (pd.concat([pd.Series(cluster_count.values,name='Size'),cluster_percentage],axis=1))"
   ]
  },
  {
   "cell_type": "markdown",
   "metadata": {},
   "source": [
    "**Some insight on the KMeans cluster-4**\n",
    "\n",
    "from the above graph we can see that each cluster is clearly showing a distinguishing behaviour within the customers.\n",
    "\n",
    "* Cluster 2 is the group of customers who have highest Monthly_avg purchases and doing both installment as well as one_off purchases, have comparatively good credit score. This group is about 31% of the total customer base.\n",
    "\n",
    "* cluster 1 is taking maximum advance_cash and is paying comparatively less minimum payment and poor credit_score & doing no purchase transaction. This group is about 23% of the total customer base.\n",
    "\n",
    "* Cluster 0 customers are doing maximum One_Off transactions and least payment ratio and credit_score on lower side This group is about 21% of the total customer base.\n",
    "\n",
    "* Cluster 3 customers have maximum credit score and are paying dues and are doing maximum installment purchases. This group is about 25% of the total customer base"
   ]
  },
  {
   "cell_type": "markdown",
   "metadata": {},
   "source": [
    "### Finding behaviour with 5 cluster\n",
    "\n",
    "Even though we found that optimal value of K is 4 we will just see how the data will behave with number of cluster as 5.\n",
    "\n",
    "For this cluster also we will be doing all the methods that are done for cluster 4 and finding how does the classification of the data point are done."
   ]
  },
  {
   "cell_type": "code",
   "execution_count": 76,
   "metadata": {},
   "outputs": [],
   "source": [
    "km_5=KMeans(n_clusters=5,random_state=123)\n",
    "km_5=km_5.fit(credit_reduced_feature)"
   ]
  },
  {
   "cell_type": "code",
   "execution_count": 77,
   "metadata": {},
   "outputs": [
    {
     "data": {
      "text/plain": [
       "1    2131\n",
       "0    2084\n",
       "2    1985\n",
       "3    1860\n",
       "4     890\n",
       "dtype: int64"
      ]
     },
     "execution_count": 77,
     "metadata": {},
     "output_type": "execute_result"
    }
   ],
   "source": [
    "pd.Series(km_5.labels_).value_counts()"
   ]
  },
  {
   "cell_type": "code",
   "execution_count": 78,
   "metadata": {},
   "outputs": [
    {
     "data": {
      "text/plain": [
       "Text(0, 0.5, 'PC_1')"
      ]
     },
     "execution_count": 78,
     "metadata": {},
     "output_type": "execute_result"
    },
    {
     "data": {
      "image/png": "[encoded data removed]",
      "text/plain": [
       "<Figure size 504x504 with 1 Axes>"
      ]
     },
     "metadata": {
      "needs_background": "light"
     },
     "output_type": "display_data"
    }
   ],
   "source": [
    "plt.figure(figsize=(7,7))\n",
    "plt.scatter(credit_reduced_feature[:,0],credit_reduced_feature[:,1],c=km_5.labels_,cmap='Spectral',alpha=0.5)\n",
    "plt.xlabel('PC_0')\n",
    "plt.ylabel('PC_1')"
   ]
  },
  {
   "cell_type": "code",
   "execution_count": 79,
   "metadata": {},
   "outputs": [],
   "source": [
    "cluster_5_df = pd.concat([credit_original[col_kpi],pd.Series(km_5.labels_,name='Cluster_5')],axis=1)"
   ]
  },
  {
   "cell_type": "code",
   "execution_count": 80,
   "metadata": {},
   "outputs": [
    {
     "data": {
      "text/html": [
       "<div>\n",
       "<style scoped>\n",
       "    .dataframe tbody tr th:only-of-type {\n",
       "        vertical-align: middle;\n",
       "    }\n",
       "\n",
       "    .dataframe tbody tr th {\n",
       "        vertical-align: top;\n",
       "    }\n",
       "\n",
       "    .dataframe thead th {\n",
       "        text-align: right;\n",
       "    }\n",
       "</style>\n",
       "<table border=\"1\" class=\"dataframe\">\n",
       "  <thead>\n",
       "    <tr style=\"text-align: right;\">\n",
       "      <th>Cluster_5</th>\n",
       "      <th>0</th>\n",
       "      <th>1</th>\n",
       "      <th>2</th>\n",
       "      <th>3</th>\n",
       "      <th>4</th>\n",
       "    </tr>\n",
       "  </thead>\n",
       "  <tbody>\n",
       "    <tr>\n",
       "      <td>CASH_ADVANCE_TRX</td>\n",
       "      <td>6.454894</td>\n",
       "      <td>0.484280</td>\n",
       "      <td>0.152645</td>\n",
       "      <td>2.648387</td>\n",
       "      <td>10.521348</td>\n",
       "    </tr>\n",
       "    <tr>\n",
       "      <td>PURCHASES_TRX</td>\n",
       "      <td>0.035509</td>\n",
       "      <td>11.896762</td>\n",
       "      <td>34.538035</td>\n",
       "      <td>7.067742</td>\n",
       "      <td>27.553933</td>\n",
       "    </tr>\n",
       "    <tr>\n",
       "      <td>Monthly_avg_purchase</td>\n",
       "      <td>0.096572</td>\n",
       "      <td>47.243825</td>\n",
       "      <td>209.814279</td>\n",
       "      <td>68.685725</td>\n",
       "      <td>141.745121</td>\n",
       "    </tr>\n",
       "    <tr>\n",
       "      <td>Monthly_cash_advance</td>\n",
       "      <td>185.109488</td>\n",
       "      <td>19.155048</td>\n",
       "      <td>3.996969</td>\n",
       "      <td>73.635703</td>\n",
       "      <td>252.661778</td>\n",
       "    </tr>\n",
       "    <tr>\n",
       "      <td>LIMIT_USAGE</td>\n",
       "      <td>0.576260</td>\n",
       "      <td>0.246733</td>\n",
       "      <td>0.262694</td>\n",
       "      <td>0.377563</td>\n",
       "      <td>0.595594</td>\n",
       "    </tr>\n",
       "    <tr>\n",
       "      <td>PAY_MINPAY</td>\n",
       "      <td>9.950170</td>\n",
       "      <td>13.861937</td>\n",
       "      <td>8.569707</td>\n",
       "      <td>5.540102</td>\n",
       "      <td>3.919233</td>\n",
       "    </tr>\n",
       "    <tr>\n",
       "      <td>both_oneoff_installment</td>\n",
       "      <td>0.000000</td>\n",
       "      <td>0.000000</td>\n",
       "      <td>1.000000</td>\n",
       "      <td>0.003226</td>\n",
       "      <td>0.879775</td>\n",
       "    </tr>\n",
       "    <tr>\n",
       "      <td>installment</td>\n",
       "      <td>0.016795</td>\n",
       "      <td>1.000000</td>\n",
       "      <td>0.000000</td>\n",
       "      <td>0.000000</td>\n",
       "      <td>0.105618</td>\n",
       "    </tr>\n",
       "    <tr>\n",
       "      <td>none</td>\n",
       "      <td>0.979846</td>\n",
       "      <td>0.000000</td>\n",
       "      <td>0.000000</td>\n",
       "      <td>0.000000</td>\n",
       "      <td>0.000000</td>\n",
       "    </tr>\n",
       "    <tr>\n",
       "      <td>oneoff</td>\n",
       "      <td>0.003359</td>\n",
       "      <td>0.000000</td>\n",
       "      <td>0.000000</td>\n",
       "      <td>0.996774</td>\n",
       "      <td>0.014607</td>\n",
       "    </tr>\n",
       "    <tr>\n",
       "      <td>CREDIT_LIMIT</td>\n",
       "      <td>4047.344850</td>\n",
       "      <td>3224.454896</td>\n",
       "      <td>5724.213063</td>\n",
       "      <td>4489.884490</td>\n",
       "      <td>5847.303371</td>\n",
       "    </tr>\n",
       "  </tbody>\n",
       "</table>\n",
       "</div>"
      ],
      "text/plain": [
       "Cluster_5                          0            1            2            3  \\\n",
       "CASH_ADVANCE_TRX            6.454894     0.484280     0.152645     2.648387   \n",
       "PURCHASES_TRX               0.035509    11.896762    34.538035     7.067742   \n",
       "Monthly_avg_purchase        0.096572    47.243825   209.814279    68.685725   \n",
       "Monthly_cash_advance      185.109488    19.155048     3.996969    73.635703   \n",
       "LIMIT_USAGE                 0.576260     0.246733     0.262694     0.377563   \n",
       "PAY_MINPAY                  9.950170    13.861937     8.569707     5.540102   \n",
       "both_oneoff_installment     0.000000     0.000000     1.000000     0.003226   \n",
       "installment                 0.016795     1.000000     0.000000     0.000000   \n",
       "none                        0.979846     0.000000     0.000000     0.000000   \n",
       "oneoff                      0.003359     0.000000     0.000000     0.996774   \n",
       "CREDIT_LIMIT             4047.344850  3224.454896  5724.213063  4489.884490   \n",
       "\n",
       "Cluster_5                          4  \n",
       "CASH_ADVANCE_TRX           10.521348  \n",
       "PURCHASES_TRX              27.553933  \n",
       "Monthly_avg_purchase      141.745121  \n",
       "Monthly_cash_advance      252.661778  \n",
       "LIMIT_USAGE                 0.595594  \n",
       "PAY_MINPAY                  3.919233  \n",
       "both_oneoff_installment     0.879775  \n",
       "installment                 0.105618  \n",
       "none                        0.000000  \n",
       "oneoff                      0.014607  \n",
       "CREDIT_LIMIT             5847.303371  "
      ]
     },
     "execution_count": 80,
     "metadata": {},
     "output_type": "execute_result"
    }
   ],
   "source": [
    "cluster_5 = cluster_5_df.groupby('Cluster_5').apply(lambda x: x[col_kpi].mean()).T\n",
    "cluster_5"
   ]
  },
  {
   "cell_type": "code",
   "execution_count": 81,
   "metadata": {},
   "outputs": [
    {
     "data": {
      "text/plain": [
       "Cluster_5   \n",
       "0          0    2084\n",
       "1          1    2131\n",
       "2          2    1985\n",
       "3          3    1860\n",
       "4          4     890\n",
       "Name: Cluster_5, dtype: int64"
      ]
     },
     "execution_count": 81,
     "metadata": {},
     "output_type": "execute_result"
    }
   ],
   "source": [
    "cluster_count_5 = cluster_5_df.groupby('Cluster_5').apply(lambda x: x['Cluster_5'].value_counts())\n",
    "cluster_count_5"
   ]
  },
  {
   "cell_type": "code",
   "execution_count": 82,
   "metadata": {},
   "outputs": [
    {
     "name": "stdout",
     "output_type": "stream",
     "text": [
      "   Size  Percentage\n",
      "0  2084   23.284916\n",
      "1  2131   23.810056\n",
      "2  1985   22.178771\n",
      "3  1860   20.782123\n",
      "4   890    9.944134\n"
     ]
    }
   ],
   "source": [
    "cluster_percentage_5 = pd.Series((cluster_count_5.values.astype(float) / cluster_5_df.shape[0])*100,name = 'Percentage')\n",
    "print (pd.concat([pd.Series(cluster_count_5.values,name='Size'),cluster_percentage_5],axis=1))"
   ]
  },
  {
   "cell_type": "code",
   "execution_count": 83,
   "metadata": {},
   "outputs": [
    {
     "data": {
      "text/plain": [
       "<matplotlib.legend.Legend at 0x9fb2cb0>"
      ]
     },
     "execution_count": 83,
     "metadata": {},
     "output_type": "execute_result"
    },
    {
     "data": {
      "image/png": "[encoded data removed]",
      "text/plain": [
       "<Figure size 1080x720 with 1 Axes>"
      ]
     },
     "metadata": {
      "needs_background": "light"
     },
     "output_type": "display_data"
    }
   ],
   "source": [
    "fig,ax=plt.subplots(figsize=(15,10))\n",
    "index=np.arange(len(cluster_5.columns))\n",
    "\n",
    "cash_advance=np.log(cluster_5.loc['Monthly_cash_advance',:].values)\n",
    "credit_score=(cluster_5.loc['LIMIT_USAGE',:].values)\n",
    "purchase= np.log(cluster_5.loc['Monthly_avg_purchase',:].values)\n",
    "payment=cluster_5.loc['PAY_MINPAY',:].values\n",
    "installment=cluster_5.loc['installment',:].values\n",
    "one_off=cluster_5.loc['oneoff',:].values\n",
    "\n",
    "\n",
    "bar_width=.10\n",
    "b1=plt.bar(index,cash_advance,color='b',label='Monthly cash advance',width=bar_width)\n",
    "b2=plt.bar(index+bar_width,credit_score,color='m',label='Credit_score',width=bar_width)\n",
    "b3=plt.bar(index+2*bar_width,purchase,color='k',label='Avg purchase',width=bar_width)\n",
    "b4=plt.bar(index+3*bar_width,payment,color='c',label='Payment-minpayment ratio',width=bar_width)\n",
    "b5=plt.bar(index+4*bar_width,installment,color='r',label='installment',width=bar_width)\n",
    "b6=plt.bar(index+5*bar_width,one_off,color='g',label='One_off purchase',width=bar_width)\n",
    "\n",
    "plt.xlabel(\"Cluster\")\n",
    "plt.title(\"Insights\")\n",
    "plt.xticks(index + bar_width, ('Cl-0', 'Cl-1', 'Cl-2', 'Cl-3','Cl-4'))\n",
    "plt.legend()"
   ]
  },
  {
   "cell_type": "markdown",
   "metadata": {},
   "source": [
    "**Insights on KMeans cluster-5**\n",
    "\n",
    "* we have a group of customers (cluster 2) having highest avergae purchases but there is Cluster 4 also having highest cash advance & secong highest purchase behaviour but their type of purchases are same.\n",
    "\n",
    "* Cluster 0 and Cluster 4 are behaving similar in terms of Credit_limit and have cash transactions is on higher side"
   ]
  },
  {
   "cell_type": "markdown",
   "metadata": {},
   "source": [
    "## Checking performance metrics for Kmeans\n",
    "\n",
    "Here We will be validating the performace of the Kmean by using calinski_harabasz_score"
   ]
  },
  {
   "cell_type": "code",
   "execution_count": 84,
   "metadata": {},
   "outputs": [],
   "source": [
    "from sklearn.metrics import calinski_harabasz_score"
   ]
  },
  {
   "cell_type": "code",
   "execution_count": 85,
   "metadata": {},
   "outputs": [],
   "source": [
    "score_c={}\n",
    "for n in range(3,10):\n",
    "    km_score=KMeans(n_clusters=n)\n",
    "    km_score.fit(credit_reduced_feature)\n",
    "    score_c[n]=calinski_harabasz_score(credit_reduced_feature,km_score.labels_)"
   ]
  },
  {
   "cell_type": "code",
   "execution_count": 86,
   "metadata": {},
   "outputs": [
    {
     "data": {
      "text/plain": [
       "<matplotlib.axes._subplots.AxesSubplot at 0xbbedeb0>"
      ]
     },
     "execution_count": 86,
     "metadata": {},
     "output_type": "execute_result"
    },
    {
     "data": {
      "image/png": "[encoded data removed]",
      "text/plain": [
       "<Figure size 432x288 with 1 Axes>"
      ]
     },
     "metadata": {
      "needs_background": "light"
     },
     "output_type": "display_data"
    }
   ],
   "source": [
    "pd.Series(score_c).plot()"
   ]
  },
  {
   "cell_type": "markdown",
   "metadata": {},
   "source": [
    "**Performance metrics also suggest that K-means with 4 cluster is able to show distinguished characteristics of each cluster.**"
   ]
  },
  {
   "cell_type": "markdown",
   "metadata": {},
   "source": [
    "## Marketing strategies that can be drawn from above analysis\n",
    "\n",
    "We Came to know that we have 4 kind of customers \n",
    "\n",
    "1. **Group 0**\n",
    "\n",
    "    * This group is has minimum paying ratio and using card for just oneoff transactions (may be for utility bills only). This group seems to be risky group.\n",
    "    \n",
    "    \n",
    "2. **Group 1**\n",
    "\n",
    "    * They have poor credit score and taking only cash on advance. We can target them by providing less interest rate on purchase transaction.\n",
    "    \n",
    "    \n",
    "3. **Group 2**\n",
    "\n",
    "    * They are potential target customers who are paying dues and doing purchases and maintaining comparatively good credit score ) -- we can increase credit limit or can lower down interest rate -- Can be given premium card /loyality cards to increase transactions.\n",
    "    \n",
    "    \n",
    "4. **Group 3**\n",
    "\n",
    "    * This group is performing best among all as cutomers are maintaining good credit score and paying dues on time. -- Giving rewards point will make them perform more purchases.\n",
    "    \n",
    "    \n",
    "**Group 2 is the potential Target customer**"
   ]
  }
 ],
 "metadata": {
  "kernelspec": {
   "display_name": "Python 3",
   "language": "python",
   "name": "python3"
  },
  "language_info": {
   "codemirror_mode": {
    "name": "ipython",
    "version": 3
   },
   "file_extension": ".py",
   "mimetype": "text/x-python",
   "name": "python",
   "nbconvert_exporter": "python",
   "pygments_lexer": "ipython3",
   "version": "3.7.4"
  }
 },
 "nbformat": 4,
 "nbformat_minor": 2
}
